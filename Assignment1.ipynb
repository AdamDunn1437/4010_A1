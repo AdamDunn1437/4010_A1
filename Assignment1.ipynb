{
 "cells": [
  {
   "cell_type": "markdown",
   "id": "4eeae95e",
   "metadata": {},
   "source": [
    "# AISE4010 — Assignment 1 \n",
    "### Time Series Forecasting with Autoregressive Models and MLP \n",
    "\n",
    "**Grade:** 100 points\n",
    "\n",
    "## Instructions\n",
    "Follow these steps before submitting your assignment:\n",
    "1. Complete the notebook.\n",
    "2. Make sure **all plots have axis labels**.\n",
    "3. When finished, go to **Kernel → Restart & Run All** to ensure a clean, error‑free run.\n",
    "4. Fix any errors until your notebook runs without problems.\n",
    "5. Submit **one completed notebook** per group to OWL by the deadline.\n",
    "6. Reference all external code and documentation you use.\n",
    "\n",
    "## Dataset \n",
    "- **File:** `weather.csv`\n",
    "- **Location:** Szeged, Hungary\n",
    "- **Frequency:** Daily (fixed calendar index)\n",
    "- **Time span:** ≈ 2006–2016\n",
    "- **Target:** `Temperature (C)`\n",
    "- **Key variables:** Temperature (C), Pressure (millibars), Humidity, Appar Temperature (C), Wind Speed (km/h), Wind Bearing (degrees), Visibility (km)\n"
   ]
  },
  {
   "cell_type": "markdown",
   "id": "e552bb48",
   "metadata": {},
   "source": [
    "## Question 1: Data Preprocessing (25%)\n",
    "\n",
    "### Q1.1 Exploratory Data Analysis (2%)\n",
    "1. Load the dataset and print the **first 6 rows**.  \n",
    "2. Encode categorical variables (one‑hot). *(If none, report \"none.\")*\n"
   ]
  },
  {
   "cell_type": "code",
   "execution_count": 26,
   "id": "76a494ee",
   "metadata": {},
   "outputs": [
    {
     "ename": "ModuleNotFoundError",
     "evalue": "No module named 'pmdarima'",
     "output_type": "error",
     "traceback": [
      "\u001b[1;31m---------------------------------------------------------------------------\u001b[0m",
      "\u001b[1;31mModuleNotFoundError\u001b[0m                       Traceback (most recent call last)",
      "Cell \u001b[1;32mIn[26], line 6\u001b[0m\n\u001b[0;32m      3\u001b[0m \u001b[38;5;28;01mimport\u001b[39;00m \u001b[38;5;21;01mmatplotlib\u001b[39;00m\u001b[38;5;21;01m.\u001b[39;00m\u001b[38;5;21;01mpyplot\u001b[39;00m \u001b[38;5;28;01mas\u001b[39;00m \u001b[38;5;21;01mplt\u001b[39;00m\n\u001b[0;32m      4\u001b[0m \u001b[38;5;28;01mimport\u001b[39;00m \u001b[38;5;21;01mseaborn\u001b[39;00m \u001b[38;5;28;01mas\u001b[39;00m \u001b[38;5;21;01msns\u001b[39;00m\n\u001b[1;32m----> 6\u001b[0m \u001b[38;5;28;01mfrom\u001b[39;00m \u001b[38;5;21;01mpmdarima\u001b[39;00m \u001b[38;5;28;01mimport\u001b[39;00m auto_arima \u001b[38;5;66;03m# pip instal first (pip install pmdarima)\u001b[39;00m\n\u001b[0;32m      7\u001b[0m \u001b[38;5;28;01mfrom\u001b[39;00m \u001b[38;5;21;01mstatsmodels\u001b[39;00m\u001b[38;5;21;01m.\u001b[39;00m\u001b[38;5;21;01mtsa\u001b[39;00m\u001b[38;5;21;01m.\u001b[39;00m\u001b[38;5;21;01mstattools\u001b[39;00m \u001b[38;5;28;01mimport\u001b[39;00m adfuller \u001b[38;5;66;03m# pip instal first (pip install statsmodels)\u001b[39;00m\n\u001b[0;32m      8\u001b[0m \u001b[38;5;28;01mfrom\u001b[39;00m \u001b[38;5;21;01mstatsmodels\u001b[39;00m\u001b[38;5;21;01m.\u001b[39;00m\u001b[38;5;21;01mtsa\u001b[39;00m\u001b[38;5;21;01m.\u001b[39;00m\u001b[38;5;21;01marima\u001b[39;00m\u001b[38;5;21;01m.\u001b[39;00m\u001b[38;5;21;01mmodel\u001b[39;00m \u001b[38;5;28;01mimport\u001b[39;00m ARIMA\n",
      "\u001b[1;31mModuleNotFoundError\u001b[0m: No module named 'pmdarima'"
     ]
    }
   ],
   "source": [
    "# import libraries\n",
    "import pandas as pd\n",
    "import matplotlib.pyplot as plt\n",
    "import seaborn as sns\n",
    "\n",
    "from pmdarima import auto_arima # pip instal first (pip install pmdarima)\n",
    "from statsmodels.tsa.stattools import adfuller # pip instal first (pip install statsmodels)\n",
    "from statsmodels.tsa.arima.model import ARIMA\n",
    "from sklearn.metrics import mean_squared_error\n",
    "from math import sqrt"
   ]
  },
  {
   "cell_type": "code",
   "execution_count": null,
   "id": "38a6d907",
   "metadata": {},
   "outputs": [],
   "source": [
    "# Answer to Q1.1.1\n",
    "\n",
    "path = 'weather.csv'\n",
    "df = pd.read_csv(path, index_col='Formatted Date', parse_dates=True)\n",
    "df.head()"
   ]
  },
  {
   "cell_type": "code",
   "execution_count": 20,
   "id": "3f59a6dc",
   "metadata": {},
   "outputs": [
    {
     "name": "stdout",
     "output_type": "stream",
     "text": [
      "None\n"
     ]
    }
   ],
   "source": [
    "# Answer to Q1.1.2\n",
    "#No categorical variables \n",
    "print(\"None\")"
   ]
  },
  {
   "cell_type": "markdown",
   "id": "7b85905b",
   "metadata": {},
   "source": [
    "### Q1.2 Handling Missing Data (11%)\n",
    "1. Report missingness (**counts & %**) and show a heatmap for **Temperature, Pressure, Humidity**.\n",
    "2. Use these two imputation methods:\\\n",
    "   a) Forward-fill (FFill).\\\n",
    "   b) Linear time interpolation.\n",
    "3. Pick one method and save the result as `daily_clean`.\n",
    "4. **Discussion** Which imputation method did you pick and why?  \n",
    "5. **Discussion** How might your choice bias trend/seasonality estimates?  \n",
    "6. **Discussion** Would your choice change if the gap were 30 days instead of 7? Explain briefly.\n"
   ]
  },
  {
   "cell_type": "code",
   "execution_count": 21,
   "id": "a96ce71b",
   "metadata": {},
   "outputs": [
    {
     "name": "stdout",
     "output_type": "stream",
     "text": [
      "Temperature (C)             47\n",
      "Apparent Temperature (C)     0\n",
      "Humidity                    40\n",
      "Wind Speed (km/h)            0\n",
      "Wind Bearing (degrees)       0\n",
      "Visibility (km)              0\n",
      "Pressure (millibars)        47\n",
      "dtype: int64 \n",
      "\n",
      "Temperature (C)             1.169445\n",
      "Apparent Temperature (C)    0.000000\n",
      "Humidity                    0.995272\n",
      "Wind Speed (km/h)           0.000000\n",
      "Wind Bearing (degrees)      0.000000\n",
      "Visibility (km)             0.000000\n",
      "Pressure (millibars)        1.169445\n",
      "dtype: float64\n"
     ]
    }
   ],
   "source": [
    "# Answer to Q1.2.1\n",
    "\n",
    "countNa = df.isnull().sum()\n",
    "percentageNa = (df.isnull().sum() / len(df))*100\n",
    "\n",
    "string = f\"{countNa} \\n\\n{percentageNa}\"\n",
    "print(string)"
   ]
  },
  {
   "cell_type": "code",
   "execution_count": 22,
   "id": "1c57ed16",
   "metadata": {},
   "outputs": [
    {
     "name": "stderr",
     "output_type": "stream",
     "text": [
      "C:\\Users\\Adunner\\AppData\\Local\\Temp\\ipykernel_33932\\477686270.py:4: FutureWarning: DataFrame.fillna with 'method' is deprecated and will raise in a future version. Use obj.ffill() or obj.bfill() instead.\n",
      "  df_ffill = df.fillna(method=\"ffill\")\n"
     ]
    }
   ],
   "source": [
    "# Answer to Q1.2.2\n",
    "\n",
    "#forward fill (FFill), carry last valid value forward\n",
    "df_ffill = df.fillna(method=\"ffill\")\n",
    "\n",
    "df_linear = df.interpolate(method=\"linear\")"
   ]
  },
  {
   "cell_type": "code",
   "execution_count": 23,
   "id": "c6373a9c",
   "metadata": {},
   "outputs": [
    {
     "name": "stdout",
     "output_type": "stream",
     "text": [
      "                Temperature (C)  Apparent Temperature (C)  Humidity  \\\n",
      "Formatted Date                                                        \n",
      "2005-12-31                  0.6                      -4.0      0.89   \n",
      "2006-01-01                  4.1                      -0.2      0.82   \n",
      "2006-01-02                  5.3                       1.8      0.85   \n",
      "2006-01-03                  2.3                       0.4      0.90   \n",
      "2006-01-04                  2.3                      -0.7      0.91   \n",
      "...                         ...                       ...       ...   \n",
      "2016-12-27                  0.3                      -3.2      0.89   \n",
      "2016-12-28                  0.2                      -3.2      0.89   \n",
      "2016-12-29                  0.2                      -3.3      0.89   \n",
      "2016-12-30                  0.1                      -3.3      0.89   \n",
      "2016-12-31                  0.1                      -3.3      0.89   \n",
      "\n",
      "                Wind Speed (km/h)  Wind Bearing (degrees)  Visibility (km)  \\\n",
      "Formatted Date                                                               \n",
      "2005-12-31                   17.1                   140.0             10.0   \n",
      "2006-01-01                   21.2                   143.0             11.3   \n",
      "2006-01-02                   17.8                   165.0              8.5   \n",
      "2006-01-03                    7.7                   253.0              9.2   \n",
      "2006-01-04                   12.2                    35.0              8.4   \n",
      "...                           ...                     ...              ...   \n",
      "2016-12-27                   11.0                   186.0              7.3   \n",
      "2016-12-28                   11.0                   186.0              7.3   \n",
      "2016-12-29                   10.9                   186.0              7.3   \n",
      "2016-12-30                   10.8                   186.0              7.3   \n",
      "2016-12-31                   10.8                   186.0              7.2   \n",
      "\n",
      "                Pressure (millibars)  \n",
      "Formatted Date                        \n",
      "2005-12-31                    1016.7  \n",
      "2006-01-01                    1012.0  \n",
      "2006-01-02                    1010.4  \n",
      "2006-01-03                    1021.2  \n",
      "2006-01-04                     981.8  \n",
      "...                              ...  \n",
      "2016-12-27                    1020.3  \n",
      "2016-12-28                    1020.3  \n",
      "2016-12-29                    1020.4  \n",
      "2016-12-30                    1020.4  \n",
      "2016-12-31                    1020.4  \n",
      "\n",
      "[4019 rows x 7 columns]\n"
     ]
    }
   ],
   "source": [
    "# Answer to Q1.2.3\n",
    "\n",
    "daily_clean = df_linear\n",
    "print(daily_clean)"
   ]
  },
  {
   "cell_type": "markdown",
   "id": "32f440c6",
   "metadata": {},
   "source": [
    "**Answer to Q1.2.4**: \n"
   ]
  },
  {
   "cell_type": "markdown",
   "id": "f1e77c00",
   "metadata": {},
   "source": [
    "I chose to use linear time interpolation rather than FFill since the variables are all continuous values rather than categorical it makes more sense. If temp 1 is 10 and temp 3 is 12, temp 2 can be found through linear interpolation and is likely 11. FFill would be usefull if you were modelling a traffic light for example where if value 1 and 3 are GO, then you can fill forward and assume that value 2 is GO as well."
   ]
  },
  {
   "cell_type": "markdown",
   "id": "6060940e",
   "metadata": {},
   "source": [
    "**Answer to Q1.2.5**: \n"
   ]
  },
  {
   "cell_type": "markdown",
   "id": "e79f7121",
   "metadata": {},
   "source": [
    "Linear interpolation can smooth over short term variability, and may not effectively show sudden changes or extreme values. It could bias short term seasonality analysis, but is less likely to distor long term trends compared to FFill, which artifically extend past values and flatten variability"
   ]
  },
  {
   "cell_type": "markdown",
   "id": "9701361e",
   "metadata": {},
   "source": [
    "**Answer to Q1.2.6**: \n"
   ]
  },
  {
   "cell_type": "markdown",
   "id": "a9623cd2",
   "metadata": {},
   "source": [
    "If the missing gap were 30 days instead of 7, linear interpolation would become less reliable since it assumes linearity across the gap. Over long gaps, environmental variables like temperature or humidity may change non-linearly (e.g., due to weather patterns). In that case, other methods such as seasonal decomposition, regression models, or external weather data sources would be more appropriate."
   ]
  },
  {
   "cell_type": "markdown",
   "id": "5727739e",
   "metadata": {},
   "source": [
    "### Q1.3 Stationarity Analysis (12%)\n",
    "1. Extract the **univariate** series `Temperature_Series = daily_clean['Temperature (C)']` and `Pressure_Series = daily_clean['Pressure (millibars)'].  \n",
    "2. Report the results of a stationarity test (**ADF** or **KPSS**) for both series.\n",
    "3. **Discussion:** Explain your conclusion about stationary analysis of your results. \n",
    "4. Apply differencing on both series and plot **before/after** and report the stationary test results of your choice on differenced series.   \n",
    "5. **Discussion:** Explain the reason for your choice of differencing technique for each series.\n",
    "6. **Discussion:** Would you difference a series that is already stationary by ADF? When might that still help?"
   ]
  },
  {
   "cell_type": "code",
   "execution_count": 25,
   "id": "c7f7aaa9",
   "metadata": {},
   "outputs": [],
   "source": [
    "# Answer to Q1.3.1\n",
    "Temperature_Series = daily_clean['Temperature (C)']\n",
    "Pressure_Series = daily_clean['Pressure (millibars)']"
   ]
  },
  {
   "cell_type": "code",
   "execution_count": null,
   "id": "f2d4dc39",
   "metadata": {},
   "outputs": [],
   "source": [
    "# Answer to Q1.3.2\n",
    "def adf_test(dataset):\n",
    "    dftest = adfuller(dataset, autolag = 'AIC')\n",
    "    "
   ]
  },
  {
   "cell_type": "markdown",
   "id": "bd0dbb90",
   "metadata": {},
   "source": [
    "**Answer to Q1.2.3**: \n"
   ]
  },
  {
   "cell_type": "code",
   "execution_count": null,
   "id": "0260e18c",
   "metadata": {},
   "outputs": [],
   "source": [
    "# Answer to Q1.3.4"
   ]
  },
  {
   "cell_type": "markdown",
   "id": "a124f93d",
   "metadata": {},
   "source": [
    "**Answer to Q1.2.5**: \n"
   ]
  },
  {
   "cell_type": "markdown",
   "id": "5fff77d4",
   "metadata": {},
   "source": [
    "**Answer to Q1.2.6**: \n"
   ]
  },
  {
   "cell_type": "markdown",
   "id": "98be1eb9",
   "metadata": {},
   "source": [
    "## Question 2: Model-Based Techniques (35%)\n",
    "\n",
    "### Q2.1 ARIMA model identification and forecasting (20%)\n",
    "1. Use `Temperature_Series` to plot **ACF/PACF** and list the choice of candidate order set for ARIMA: (p,d,q).  \n",
    "2. **Discussion:** Explain the reasons for your choice of (p,d,q).\n",
    "3. Select the orders by **AIC** using the training set (hold out the last **365 days** for testing).  \n",
    "4. Fit the selected ARIMA on the training set and evaluate the predictions' **MAE/MSE** on the test set.\n",
    "5. Plot predictions with **95% CI**.\n",
    "6. Forecast the **next 365 days** and visualize with historical context and **95% CI**.\n"
   ]
  },
  {
   "cell_type": "code",
   "execution_count": 18,
   "id": "eaaf2097",
   "metadata": {},
   "outputs": [
    {
     "ename": "TypeError",
     "evalue": "'tuple' object is not callable",
     "output_type": "error",
     "traceback": [
      "\u001b[1;31m---------------------------------------------------------------------------\u001b[0m",
      "\u001b[1;31mTypeError\u001b[0m                                 Traceback (most recent call last)",
      "Cell \u001b[1;32mIn[18], line 1\u001b[0m\n\u001b[1;32m----> 1\u001b[0m df\u001b[38;5;241m.\u001b[39mshape()\n",
      "\u001b[1;31mTypeError\u001b[0m: 'tuple' object is not callable"
     ]
    }
   ],
   "source": [
    "df.shape()"
   ]
  },
  {
   "cell_type": "code",
   "execution_count": 17,
   "id": "08445c61",
   "metadata": {},
   "outputs": [
    {
     "ename": "TypeError",
     "evalue": "Value after * must be an iterable, not float",
     "output_type": "error",
     "traceback": [
      "\u001b[1;31m---------------------------------------------------------------------------\u001b[0m",
      "\u001b[1;31mTypeError\u001b[0m                                 Traceback (most recent call last)",
      "Cell \u001b[1;32mIn[17], line 2\u001b[0m\n\u001b[0;32m      1\u001b[0m \u001b[38;5;66;03m# Answer to Q2.1.1\u001b[39;00m\n\u001b[1;32m----> 2\u001b[0m df[\u001b[38;5;124m'\u001b[39m\u001b[38;5;124mTemperature (C)\u001b[39m\u001b[38;5;124m'\u001b[39m]\u001b[38;5;241m.\u001b[39mplot(figsize\u001b[38;5;241m=\u001b[39m(\u001b[38;5;241m12.5\u001b[39m))\n",
      "File \u001b[1;32mc:\\Users\\Adunner\\anaconda3\\Lib\\site-packages\\pandas\\plotting\\_core.py:1030\u001b[0m, in \u001b[0;36mPlotAccessor.__call__\u001b[1;34m(self, *args, **kwargs)\u001b[0m\n\u001b[0;32m   1027\u001b[0m             label_name \u001b[38;5;241m=\u001b[39m label_kw \u001b[38;5;129;01mor\u001b[39;00m data\u001b[38;5;241m.\u001b[39mcolumns\n\u001b[0;32m   1028\u001b[0m             data\u001b[38;5;241m.\u001b[39mcolumns \u001b[38;5;241m=\u001b[39m label_name\n\u001b[1;32m-> 1030\u001b[0m \u001b[38;5;28;01mreturn\u001b[39;00m plot_backend\u001b[38;5;241m.\u001b[39mplot(data, kind\u001b[38;5;241m=\u001b[39mkind, \u001b[38;5;241m*\u001b[39m\u001b[38;5;241m*\u001b[39mkwargs)\n",
      "File \u001b[1;32mc:\\Users\\Adunner\\anaconda3\\Lib\\site-packages\\pandas\\plotting\\_matplotlib\\__init__.py:71\u001b[0m, in \u001b[0;36mplot\u001b[1;34m(data, kind, **kwargs)\u001b[0m\n\u001b[0;32m     69\u001b[0m         kwargs[\u001b[38;5;124m\"\u001b[39m\u001b[38;5;124max\u001b[39m\u001b[38;5;124m\"\u001b[39m] \u001b[38;5;241m=\u001b[39m \u001b[38;5;28mgetattr\u001b[39m(ax, \u001b[38;5;124m\"\u001b[39m\u001b[38;5;124mleft_ax\u001b[39m\u001b[38;5;124m\"\u001b[39m, ax)\n\u001b[0;32m     70\u001b[0m plot_obj \u001b[38;5;241m=\u001b[39m PLOT_CLASSES[kind](data, \u001b[38;5;241m*\u001b[39m\u001b[38;5;241m*\u001b[39mkwargs)\n\u001b[1;32m---> 71\u001b[0m plot_obj\u001b[38;5;241m.\u001b[39mgenerate()\n\u001b[0;32m     72\u001b[0m plot_obj\u001b[38;5;241m.\u001b[39mdraw()\n\u001b[0;32m     73\u001b[0m \u001b[38;5;28;01mreturn\u001b[39;00m plot_obj\u001b[38;5;241m.\u001b[39mresult\n",
      "File \u001b[1;32mc:\\Users\\Adunner\\anaconda3\\Lib\\site-packages\\pandas\\plotting\\_matplotlib\\core.py:500\u001b[0m, in \u001b[0;36mMPLPlot.generate\u001b[1;34m(self)\u001b[0m\n\u001b[0;32m    497\u001b[0m \u001b[38;5;129m@final\u001b[39m\n\u001b[0;32m    498\u001b[0m \u001b[38;5;28;01mdef\u001b[39;00m \u001b[38;5;21mgenerate\u001b[39m(\u001b[38;5;28mself\u001b[39m) \u001b[38;5;241m-\u001b[39m\u001b[38;5;241m>\u001b[39m \u001b[38;5;28;01mNone\u001b[39;00m:\n\u001b[0;32m    499\u001b[0m     \u001b[38;5;28mself\u001b[39m\u001b[38;5;241m.\u001b[39m_compute_plot_data()\n\u001b[1;32m--> 500\u001b[0m     fig \u001b[38;5;241m=\u001b[39m \u001b[38;5;28mself\u001b[39m\u001b[38;5;241m.\u001b[39mfig\n\u001b[0;32m    501\u001b[0m     \u001b[38;5;28mself\u001b[39m\u001b[38;5;241m.\u001b[39m_make_plot(fig)\n\u001b[0;32m    502\u001b[0m     \u001b[38;5;28mself\u001b[39m\u001b[38;5;241m.\u001b[39m_add_table()\n",
      "File \u001b[1;32mproperties.pyx:36\u001b[0m, in \u001b[0;36mpandas._libs.properties.CachedProperty.__get__\u001b[1;34m()\u001b[0m\n",
      "File \u001b[1;32mc:\\Users\\Adunner\\anaconda3\\Lib\\site-packages\\pandas\\plotting\\_matplotlib\\core.py:555\u001b[0m, in \u001b[0;36mMPLPlot.fig\u001b[1;34m(self)\u001b[0m\n\u001b[0;32m    552\u001b[0m \u001b[38;5;129m@final\u001b[39m\n\u001b[0;32m    553\u001b[0m \u001b[38;5;129m@cache_readonly\u001b[39m\n\u001b[0;32m    554\u001b[0m \u001b[38;5;28;01mdef\u001b[39;00m \u001b[38;5;21mfig\u001b[39m(\u001b[38;5;28mself\u001b[39m) \u001b[38;5;241m-\u001b[39m\u001b[38;5;241m>\u001b[39m Figure:\n\u001b[1;32m--> 555\u001b[0m     \u001b[38;5;28;01mreturn\u001b[39;00m \u001b[38;5;28mself\u001b[39m\u001b[38;5;241m.\u001b[39m_axes_and_fig[\u001b[38;5;241m1\u001b[39m]\n",
      "File \u001b[1;32mproperties.pyx:36\u001b[0m, in \u001b[0;36mpandas._libs.properties.CachedProperty.__get__\u001b[1;34m()\u001b[0m\n",
      "File \u001b[1;32mc:\\Users\\Adunner\\anaconda3\\Lib\\site-packages\\pandas\\plotting\\_matplotlib\\core.py:580\u001b[0m, in \u001b[0;36mMPLPlot._axes_and_fig\u001b[1;34m(self)\u001b[0m\n\u001b[0;32m    570\u001b[0m     fig, axes \u001b[38;5;241m=\u001b[39m create_subplots(\n\u001b[0;32m    571\u001b[0m         naxes\u001b[38;5;241m=\u001b[39mnaxes,\n\u001b[0;32m    572\u001b[0m         sharex\u001b[38;5;241m=\u001b[39m\u001b[38;5;28mself\u001b[39m\u001b[38;5;241m.\u001b[39msharex,\n\u001b[1;32m   (...)\u001b[0m\n\u001b[0;32m    577\u001b[0m         layout_type\u001b[38;5;241m=\u001b[39m\u001b[38;5;28mself\u001b[39m\u001b[38;5;241m.\u001b[39m_layout_type,\n\u001b[0;32m    578\u001b[0m     )\n\u001b[0;32m    579\u001b[0m \u001b[38;5;28;01melif\u001b[39;00m \u001b[38;5;28mself\u001b[39m\u001b[38;5;241m.\u001b[39max \u001b[38;5;129;01mis\u001b[39;00m \u001b[38;5;28;01mNone\u001b[39;00m:\n\u001b[1;32m--> 580\u001b[0m     fig \u001b[38;5;241m=\u001b[39m \u001b[38;5;28mself\u001b[39m\u001b[38;5;241m.\u001b[39mplt\u001b[38;5;241m.\u001b[39mfigure(figsize\u001b[38;5;241m=\u001b[39m\u001b[38;5;28mself\u001b[39m\u001b[38;5;241m.\u001b[39mfigsize)\n\u001b[0;32m    581\u001b[0m     axes \u001b[38;5;241m=\u001b[39m fig\u001b[38;5;241m.\u001b[39madd_subplot(\u001b[38;5;241m111\u001b[39m)\n\u001b[0;32m    582\u001b[0m \u001b[38;5;28;01melse\u001b[39;00m:\n",
      "File \u001b[1;32mc:\\Users\\Adunner\\anaconda3\\Lib\\site-packages\\matplotlib\\pyplot.py:1027\u001b[0m, in \u001b[0;36mfigure\u001b[1;34m(num, figsize, dpi, facecolor, edgecolor, frameon, FigureClass, clear, **kwargs)\u001b[0m\n\u001b[0;32m   1017\u001b[0m \u001b[38;5;28;01mif\u001b[39;00m \u001b[38;5;28mlen\u001b[39m(allnums) \u001b[38;5;241m==\u001b[39m max_open_warning \u001b[38;5;241m>\u001b[39m\u001b[38;5;241m=\u001b[39m \u001b[38;5;241m1\u001b[39m:\n\u001b[0;32m   1018\u001b[0m     _api\u001b[38;5;241m.\u001b[39mwarn_external(\n\u001b[0;32m   1019\u001b[0m         \u001b[38;5;124mf\u001b[39m\u001b[38;5;124m\"\u001b[39m\u001b[38;5;124mMore than \u001b[39m\u001b[38;5;132;01m{\u001b[39;00mmax_open_warning\u001b[38;5;132;01m}\u001b[39;00m\u001b[38;5;124m figures have been opened. \u001b[39m\u001b[38;5;124m\"\u001b[39m\n\u001b[0;32m   1020\u001b[0m         \u001b[38;5;124mf\u001b[39m\u001b[38;5;124m\"\u001b[39m\u001b[38;5;124mFigures created through the pyplot interface \u001b[39m\u001b[38;5;124m\"\u001b[39m\n\u001b[1;32m   (...)\u001b[0m\n\u001b[0;32m   1024\u001b[0m         \u001b[38;5;124mf\u001b[39m\u001b[38;5;124m\"\u001b[39m\u001b[38;5;124mConsider using `matplotlib.pyplot.close()`.\u001b[39m\u001b[38;5;124m\"\u001b[39m,\n\u001b[0;32m   1025\u001b[0m         \u001b[38;5;167;01mRuntimeWarning\u001b[39;00m)\n\u001b[1;32m-> 1027\u001b[0m manager \u001b[38;5;241m=\u001b[39m new_figure_manager(\n\u001b[0;32m   1028\u001b[0m     num, figsize\u001b[38;5;241m=\u001b[39mfigsize, dpi\u001b[38;5;241m=\u001b[39mdpi,\n\u001b[0;32m   1029\u001b[0m     facecolor\u001b[38;5;241m=\u001b[39mfacecolor, edgecolor\u001b[38;5;241m=\u001b[39medgecolor, frameon\u001b[38;5;241m=\u001b[39mframeon,\n\u001b[0;32m   1030\u001b[0m     FigureClass\u001b[38;5;241m=\u001b[39mFigureClass, \u001b[38;5;241m*\u001b[39m\u001b[38;5;241m*\u001b[39mkwargs)\n\u001b[0;32m   1031\u001b[0m fig \u001b[38;5;241m=\u001b[39m manager\u001b[38;5;241m.\u001b[39mcanvas\u001b[38;5;241m.\u001b[39mfigure\n\u001b[0;32m   1032\u001b[0m \u001b[38;5;28;01mif\u001b[39;00m fig_label:\n",
      "File \u001b[1;32mc:\\Users\\Adunner\\anaconda3\\Lib\\site-packages\\matplotlib\\pyplot.py:550\u001b[0m, in \u001b[0;36mnew_figure_manager\u001b[1;34m(*args, **kwargs)\u001b[0m\n\u001b[0;32m    548\u001b[0m \u001b[38;5;250m\u001b[39m\u001b[38;5;124;03m\"\"\"Create a new figure manager instance.\"\"\"\u001b[39;00m\n\u001b[0;32m    549\u001b[0m _warn_if_gui_out_of_main_thread()\n\u001b[1;32m--> 550\u001b[0m \u001b[38;5;28;01mreturn\u001b[39;00m _get_backend_mod()\u001b[38;5;241m.\u001b[39mnew_figure_manager(\u001b[38;5;241m*\u001b[39margs, \u001b[38;5;241m*\u001b[39m\u001b[38;5;241m*\u001b[39mkwargs)\n",
      "File \u001b[1;32mc:\\Users\\Adunner\\anaconda3\\Lib\\site-packages\\matplotlib_inline\\backend_inline.py:27\u001b[0m, in \u001b[0;36mnew_figure_manager\u001b[1;34m(num, FigureClass, *args, **kwargs)\u001b[0m\n\u001b[0;32m     21\u001b[0m \u001b[38;5;28;01mdef\u001b[39;00m \u001b[38;5;21mnew_figure_manager\u001b[39m(num, \u001b[38;5;241m*\u001b[39margs, FigureClass\u001b[38;5;241m=\u001b[39mFigure, \u001b[38;5;241m*\u001b[39m\u001b[38;5;241m*\u001b[39mkwargs):\n\u001b[0;32m     22\u001b[0m \u001b[38;5;250m    \u001b[39m\u001b[38;5;124;03m\"\"\"\u001b[39;00m\n\u001b[0;32m     23\u001b[0m \u001b[38;5;124;03m    Return a new figure manager for a new figure instance.\u001b[39;00m\n\u001b[0;32m     24\u001b[0m \n\u001b[0;32m     25\u001b[0m \u001b[38;5;124;03m    This function is part of the API expected by Matplotlib backends.\u001b[39;00m\n\u001b[0;32m     26\u001b[0m \u001b[38;5;124;03m    \"\"\"\u001b[39;00m\n\u001b[1;32m---> 27\u001b[0m     \u001b[38;5;28;01mreturn\u001b[39;00m new_figure_manager_given_figure(num, FigureClass(\u001b[38;5;241m*\u001b[39margs, \u001b[38;5;241m*\u001b[39m\u001b[38;5;241m*\u001b[39mkwargs))\n",
      "File \u001b[1;32mc:\\Users\\Adunner\\anaconda3\\Lib\\site-packages\\matplotlib\\figure.py:2568\u001b[0m, in \u001b[0;36mFigure.__init__\u001b[1;34m(self, figsize, dpi, facecolor, edgecolor, linewidth, frameon, subplotpars, tight_layout, constrained_layout, layout, **kwargs)\u001b[0m\n\u001b[0;32m   2565\u001b[0m \u001b[38;5;28;01mif\u001b[39;00m \u001b[38;5;129;01mnot\u001b[39;00m np\u001b[38;5;241m.\u001b[39misfinite(figsize)\u001b[38;5;241m.\u001b[39mall() \u001b[38;5;129;01mor\u001b[39;00m (np\u001b[38;5;241m.\u001b[39marray(figsize) \u001b[38;5;241m<\u001b[39m \u001b[38;5;241m0\u001b[39m)\u001b[38;5;241m.\u001b[39many():\n\u001b[0;32m   2566\u001b[0m     \u001b[38;5;28;01mraise\u001b[39;00m \u001b[38;5;167;01mValueError\u001b[39;00m(\u001b[38;5;124m'\u001b[39m\u001b[38;5;124mfigure size must be positive finite not \u001b[39m\u001b[38;5;124m'\u001b[39m\n\u001b[0;32m   2567\u001b[0m                      \u001b[38;5;124mf\u001b[39m\u001b[38;5;124m'\u001b[39m\u001b[38;5;132;01m{\u001b[39;00mfigsize\u001b[38;5;132;01m}\u001b[39;00m\u001b[38;5;124m'\u001b[39m)\n\u001b[1;32m-> 2568\u001b[0m \u001b[38;5;28mself\u001b[39m\u001b[38;5;241m.\u001b[39mbbox_inches \u001b[38;5;241m=\u001b[39m Bbox\u001b[38;5;241m.\u001b[39mfrom_bounds(\u001b[38;5;241m0\u001b[39m, \u001b[38;5;241m0\u001b[39m, \u001b[38;5;241m*\u001b[39mfigsize)\n\u001b[0;32m   2570\u001b[0m \u001b[38;5;28mself\u001b[39m\u001b[38;5;241m.\u001b[39mdpi_scale_trans \u001b[38;5;241m=\u001b[39m Affine2D()\u001b[38;5;241m.\u001b[39mscale(dpi)\n\u001b[0;32m   2571\u001b[0m \u001b[38;5;66;03m# do not use property as it will trigger\u001b[39;00m\n",
      "\u001b[1;31mTypeError\u001b[0m: Value after * must be an iterable, not float"
     ]
    }
   ],
   "source": [
    "# Answer to Q2.1.1\n",
    "df['Temperature (C)'].plot(figsize=(12.5))"
   ]
  },
  {
   "cell_type": "markdown",
   "id": "8dc00caa",
   "metadata": {},
   "source": [
    "**Answer to Q2.1.2**: \n"
   ]
  },
  {
   "cell_type": "code",
   "execution_count": null,
   "id": "568db99e",
   "metadata": {},
   "outputs": [],
   "source": [
    "# Answer to Q2.1.3"
   ]
  },
  {
   "cell_type": "code",
   "execution_count": null,
   "id": "0fa1a7ce",
   "metadata": {},
   "outputs": [],
   "source": [
    "# Answer to Q2.1.4"
   ]
  },
  {
   "cell_type": "code",
   "execution_count": null,
   "id": "65aefa27",
   "metadata": {},
   "outputs": [],
   "source": [
    "# Answer to Q2.1.5"
   ]
  },
  {
   "cell_type": "code",
   "execution_count": null,
   "id": "49119180",
   "metadata": {},
   "outputs": [],
   "source": [
    "# Answer to Q2.1.6"
   ]
  },
  {
   "cell_type": "markdown",
   "id": "0d70562b",
   "metadata": {},
   "source": [
    "### Q2.2 SARIMA forecasting (15%)\n",
    "\n",
    "1. Derive a **monthly** series from `daily_clean` and fit a **SARIMA** with seasonal period **12**. Hold out the **last 24 months** as test set for prediction. \n",
    "2. Report the predictions' **MAE/MSE**.\n",
    "3. Plot the the prediction with **95% CI** \n",
    "4.  **Discussion:** Compare the ARIMA and SARIMA predictions and explain your findings.\n"
   ]
  },
  {
   "cell_type": "code",
   "execution_count": null,
   "id": "29d8d7b0",
   "metadata": {},
   "outputs": [],
   "source": [
    "# Answer to Q2.2.1"
   ]
  },
  {
   "cell_type": "code",
   "execution_count": null,
   "id": "8b14b29d",
   "metadata": {},
   "outputs": [],
   "source": [
    "# Answer to Q2.2.2"
   ]
  },
  {
   "cell_type": "code",
   "execution_count": null,
   "id": "801e0a17",
   "metadata": {},
   "outputs": [],
   "source": [
    "# Answer to Q2.2.3"
   ]
  },
  {
   "cell_type": "markdown",
   "id": "5ed943f3",
   "metadata": {},
   "source": [
    "**Answer to Q2.2.4**: \n"
   ]
  },
  {
   "cell_type": "markdown",
   "id": "438199c7",
   "metadata": {},
   "source": [
    "## Question 3: Neural Networks for Time Series Forecasting (40%)\n",
    "Use `daily_clean` for all parts.\n",
    "\n",
    "### Q3.1 Sliding Window for Time Series — Univariate (2%)\n",
    "1. Restructure **Temperature**: past **10 days** → **next day**.\n",
    "\n",
    "2. Hold out last 20% as test set.\n"
   ]
  },
  {
   "cell_type": "code",
   "execution_count": null,
   "id": "861f633c",
   "metadata": {},
   "outputs": [],
   "source": [
    "# Answer to Q3.1.1"
   ]
  },
  {
   "cell_type": "code",
   "execution_count": null,
   "id": "3a8f07f1",
   "metadata": {},
   "outputs": [],
   "source": [
    "# Answer to Q3.1.2"
   ]
  },
  {
   "cell_type": "markdown",
   "id": "c2947ac2",
   "metadata": {},
   "source": [
    "### Q3.2 MLP — Univariate (18%)\n",
    "1. Build an MLP with one hidden layer of 64 neurons, ReLu activation, Adam optimizer with learning rate of 0.001 and batch_size=32, and train it for 20 epochs. \n",
    "2. Report **RMSE/MAE**.\n",
    "3. Plot **two figures**: (1) **last 100 test points** (true vs. predicted), (2) **scatter (true vs. predicted)** with the **y = x** line.\n",
    "4. **Discussion:** Compare ARIMA vs. the univariate MLP in **RMSE/MAE** and **plots**. Which patterns does each capture better? \n",
    "5. **Discussion:** Would increasing the input window beyond 10 days help? Why or why not?\n"
   ]
  },
  {
   "cell_type": "code",
   "execution_count": null,
   "id": "7a621e60",
   "metadata": {},
   "outputs": [],
   "source": [
    "# Answer to Q3.2.1"
   ]
  },
  {
   "cell_type": "code",
   "execution_count": null,
   "id": "c9e4b52b",
   "metadata": {},
   "outputs": [],
   "source": [
    "# Answer to Q3.2.2"
   ]
  },
  {
   "cell_type": "code",
   "execution_count": null,
   "id": "650817bc",
   "metadata": {},
   "outputs": [],
   "source": [
    "# Answer to Q3.2.3"
   ]
  },
  {
   "cell_type": "markdown",
   "id": "b897819c",
   "metadata": {},
   "source": [
    "**Answer to Q3.2.4**: \n"
   ]
  },
  {
   "cell_type": "markdown",
   "id": "bd99c011",
   "metadata": {},
   "source": [
    "**Answer to Q3.2.5**: \n"
   ]
  },
  {
   "cell_type": "markdown",
   "id": "54e6e3ee",
   "metadata": {},
   "source": [
    "### Q3.3 MLP — Multivariate (20%)\n",
    "1. Use **Temperature & Pressure** for the past **10 days** as the inputs and **next‑day Temperature** as the target. \n",
    "2. Hold out last 20% as test set.\n",
    "3. Build a Multivariate MLP with one hidden layer of 64 neurons, ReLu activation, Adam optimizer with learning rate of 0.001 and batch_size=32, and train it for 20 epochs. \n",
    "4. Report **RMSE/MAE**.\n",
    "5. Plot **two figures**: (1) **last 100 test points** (true vs. predicted), (2) **scatter (true vs. predicted)** with the **y = x** line.\n",
    "6. **Discussion:** Did Pressure improve Temperature forecasting vs. univariate? Why might it help/hurt?  \n",
    "7. **Discussion:** Suggest two additional features you would add next and why?\n"
   ]
  },
  {
   "cell_type": "code",
   "execution_count": null,
   "id": "6470ad1c",
   "metadata": {},
   "outputs": [],
   "source": [
    "# Answer to Q3.3.1"
   ]
  },
  {
   "cell_type": "code",
   "execution_count": null,
   "id": "338615e3",
   "metadata": {},
   "outputs": [],
   "source": [
    "# Answer to Q3.3.2"
   ]
  },
  {
   "cell_type": "code",
   "execution_count": null,
   "id": "d2d52cb2",
   "metadata": {},
   "outputs": [],
   "source": [
    "# Answer to Q3.3.3"
   ]
  },
  {
   "cell_type": "code",
   "execution_count": null,
   "id": "280733f1",
   "metadata": {},
   "outputs": [],
   "source": [
    "# Answer to Q3.3.4"
   ]
  },
  {
   "cell_type": "code",
   "execution_count": null,
   "id": "6c2f9b44",
   "metadata": {},
   "outputs": [],
   "source": [
    "# Answer to Q3.3.5"
   ]
  },
  {
   "cell_type": "markdown",
   "id": "3a23d8f9",
   "metadata": {},
   "source": [
    "**Answer to Q3.3.6**: \n"
   ]
  },
  {
   "cell_type": "markdown",
   "id": "503b0d46",
   "metadata": {},
   "source": [
    "**Answer to Q3.3.7**: \n"
   ]
  }
 ],
 "metadata": {
  "kernelspec": {
   "display_name": "base",
   "language": "python",
   "name": "python3"
  },
  "language_info": {
   "codemirror_mode": {
    "name": "ipython",
    "version": 3
   },
   "file_extension": ".py",
   "mimetype": "text/x-python",
   "name": "python",
   "nbconvert_exporter": "python",
   "pygments_lexer": "ipython3",
   "version": "3.12.7"
  }
 },
 "nbformat": 4,
 "nbformat_minor": 5
}
