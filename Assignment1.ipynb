{
  "cells": [
    {
      "cell_type": "markdown",
      "id": "4eeae95e",
      "metadata": {
        "id": "4eeae95e"
      },
      "source": [
        "# AISE4010 — Assignment 1\n",
        "### Time Series Forecasting with Autoregressive Models and MLP\n",
        "\n",
        "**Grade:** 100 points\n",
        "\n",
        "## Instructions\n",
        "Follow these steps before submitting your assignment:\n",
        "1. Complete the notebook.\n",
        "2. Make sure **all plots have axis labels**.\n",
        "3. When finished, go to **Kernel → Restart & Run All** to ensure a clean, error‑free run.\n",
        "4. Fix any errors until your notebook runs without problems.\n",
        "5. Submit **one completed notebook** per group to OWL by the deadline.\n",
        "6. Reference all external code and documentation you use.\n",
        "\n",
        "## Dataset\n",
        "- **File:** `weather.csv`\n",
        "- **Location:** Szeged, Hungary\n",
        "- **Frequency:** Daily (fixed calendar index)\n",
        "- **Time span:** ≈ 2006–2016\n",
        "- **Target:** `Temperature (C)`\n",
        "- **Key variables:** Temperature (C), Pressure (millibars), Humidity, Appar Temperature (C), Wind Speed (km/h), Wind Bearing (degrees), Visibility (km)\n"
      ]
    },
    {
      "cell_type": "markdown",
      "id": "e552bb48",
      "metadata": {
        "id": "e552bb48"
      },
      "source": [
        "## Question 1: Data Preprocessing (25%)\n",
        "\n",
        "### Q1.1 Exploratory Data Analysis (2%)\n",
        "1. Load the dataset and print the **first 6 rows**.  \n",
        "2. Encode categorical variables (one‑hot). *(If none, report \"none.\")*\n"
      ]
    },
    {
      "cell_type": "code",
      "source": [
        "!pip install pmdarima\n",
        "!pip install numpy==1.26.4\n",
        "!pip install statsmodels"
      ],
      "metadata": {
        "colab": {
          "base_uri": "https://localhost:8080/"
        },
        "id": "dFjYuE3Mp2Az",
        "outputId": "fa644d3a-fe5a-40d2-ac9d-90f2308e6c8c"
      },
      "id": "dFjYuE3Mp2Az",
      "execution_count": 1,
      "outputs": [
        {
          "output_type": "stream",
          "name": "stdout",
          "text": [
            "Requirement already satisfied: pmdarima in /usr/local/lib/python3.12/dist-packages (2.0.4)\n",
            "Requirement already satisfied: joblib>=0.11 in /usr/local/lib/python3.12/dist-packages (from pmdarima) (1.5.2)\n",
            "Requirement already satisfied: Cython!=0.29.18,!=0.29.31,>=0.29 in /usr/local/lib/python3.12/dist-packages (from pmdarima) (3.0.12)\n",
            "Requirement already satisfied: numpy>=1.21.2 in /usr/local/lib/python3.12/dist-packages (from pmdarima) (1.26.4)\n",
            "Requirement already satisfied: pandas>=0.19 in /usr/local/lib/python3.12/dist-packages (from pmdarima) (2.2.2)\n",
            "Requirement already satisfied: scikit-learn>=0.22 in /usr/local/lib/python3.12/dist-packages (from pmdarima) (1.6.1)\n",
            "Requirement already satisfied: scipy>=1.3.2 in /usr/local/lib/python3.12/dist-packages (from pmdarima) (1.16.2)\n",
            "Requirement already satisfied: statsmodels>=0.13.2 in /usr/local/lib/python3.12/dist-packages (from pmdarima) (0.14.5)\n",
            "Requirement already satisfied: urllib3 in /usr/local/lib/python3.12/dist-packages (from pmdarima) (2.5.0)\n",
            "Requirement already satisfied: setuptools!=50.0.0,>=38.6.0 in /usr/local/lib/python3.12/dist-packages (from pmdarima) (75.2.0)\n",
            "Requirement already satisfied: packaging>=17.1 in /usr/local/lib/python3.12/dist-packages (from pmdarima) (25.0)\n",
            "Requirement already satisfied: python-dateutil>=2.8.2 in /usr/local/lib/python3.12/dist-packages (from pandas>=0.19->pmdarima) (2.9.0.post0)\n",
            "Requirement already satisfied: pytz>=2020.1 in /usr/local/lib/python3.12/dist-packages (from pandas>=0.19->pmdarima) (2025.2)\n",
            "Requirement already satisfied: tzdata>=2022.7 in /usr/local/lib/python3.12/dist-packages (from pandas>=0.19->pmdarima) (2025.2)\n",
            "Requirement already satisfied: threadpoolctl>=3.1.0 in /usr/local/lib/python3.12/dist-packages (from scikit-learn>=0.22->pmdarima) (3.6.0)\n",
            "Requirement already satisfied: patsy>=0.5.6 in /usr/local/lib/python3.12/dist-packages (from statsmodels>=0.13.2->pmdarima) (1.0.1)\n",
            "Requirement already satisfied: six>=1.5 in /usr/local/lib/python3.12/dist-packages (from python-dateutil>=2.8.2->pandas>=0.19->pmdarima) (1.17.0)\n",
            "Requirement already satisfied: numpy==1.26.4 in /usr/local/lib/python3.12/dist-packages (1.26.4)\n",
            "Requirement already satisfied: statsmodels in /usr/local/lib/python3.12/dist-packages (0.14.5)\n",
            "Requirement already satisfied: numpy<3,>=1.22.3 in /usr/local/lib/python3.12/dist-packages (from statsmodels) (1.26.4)\n",
            "Requirement already satisfied: scipy!=1.9.2,>=1.8 in /usr/local/lib/python3.12/dist-packages (from statsmodels) (1.16.2)\n",
            "Requirement already satisfied: pandas!=2.1.0,>=1.4 in /usr/local/lib/python3.12/dist-packages (from statsmodels) (2.2.2)\n",
            "Requirement already satisfied: patsy>=0.5.6 in /usr/local/lib/python3.12/dist-packages (from statsmodels) (1.0.1)\n",
            "Requirement already satisfied: packaging>=21.3 in /usr/local/lib/python3.12/dist-packages (from statsmodels) (25.0)\n",
            "Requirement already satisfied: python-dateutil>=2.8.2 in /usr/local/lib/python3.12/dist-packages (from pandas!=2.1.0,>=1.4->statsmodels) (2.9.0.post0)\n",
            "Requirement already satisfied: pytz>=2020.1 in /usr/local/lib/python3.12/dist-packages (from pandas!=2.1.0,>=1.4->statsmodels) (2025.2)\n",
            "Requirement already satisfied: tzdata>=2022.7 in /usr/local/lib/python3.12/dist-packages (from pandas!=2.1.0,>=1.4->statsmodels) (2025.2)\n",
            "Requirement already satisfied: six>=1.5 in /usr/local/lib/python3.12/dist-packages (from python-dateutil>=2.8.2->pandas!=2.1.0,>=1.4->statsmodels) (1.17.0)\n"
          ]
        }
      ]
    },
    {
      "cell_type": "code",
      "execution_count": 22,
      "id": "76a494ee",
      "metadata": {
        "id": "76a494ee"
      },
      "outputs": [],
      "source": [
        "# import libraries\n",
        "import pandas as pd\n",
        "import matplotlib.pyplot as plt\n",
        "import seaborn as sns\n",
        "\n",
        "from pmdarima import auto_arima # pip instal first (pip install pmdarima)\n",
        "from statsmodels.tsa.stattools import adfuller # pip instal first (pip install statsmodels)\n",
        "from statsmodels.tsa.arima.model import ARIMA\n",
        "from sklearn.metrics import mean_squared_error\n",
        "from math import sqrt\n",
        "\n",
        "import plotly.express as px"
      ]
    },
    {
      "cell_type": "code",
      "execution_count": 23,
      "id": "38a6d907",
      "metadata": {
        "colab": {
          "base_uri": "https://localhost:8080/",
          "height": 238
        },
        "id": "38a6d907",
        "outputId": "625f5348-5c36-40a9-f567-5fb23bac9ad5"
      },
      "outputs": [
        {
          "output_type": "execute_result",
          "data": {
            "text/plain": [
              "                Temperature (C)  Apparent Temperature (C)  Humidity  \\\n",
              "Formatted Date                                                        \n",
              "2005-12-31                  0.6                      -4.0      0.89   \n",
              "2006-01-01                  4.1                      -0.2      0.82   \n",
              "2006-01-02                  5.3                       1.8      0.85   \n",
              "2006-01-03                  2.3                       0.4      0.90   \n",
              "2006-01-04                  2.3                      -0.7      0.91   \n",
              "\n",
              "                Wind Speed (km/h)  Wind Bearing (degrees)  Visibility (km)  \\\n",
              "Formatted Date                                                               \n",
              "2005-12-31                   17.1                   140.0             10.0   \n",
              "2006-01-01                   21.2                   143.0             11.3   \n",
              "2006-01-02                   17.8                   165.0              8.5   \n",
              "2006-01-03                    7.7                   253.0              9.2   \n",
              "2006-01-04                   12.2                    35.0              8.4   \n",
              "\n",
              "                Pressure (millibars)  \n",
              "Formatted Date                        \n",
              "2005-12-31                    1016.7  \n",
              "2006-01-01                    1012.0  \n",
              "2006-01-02                    1010.4  \n",
              "2006-01-03                    1021.2  \n",
              "2006-01-04                     981.8  "
            ],
            "text/html": [
              "\n",
              "  <div id=\"df-420ad984-e7e7-4357-8bf1-46a2bca6475c\" class=\"colab-df-container\">\n",
              "    <div>\n",
              "<style scoped>\n",
              "    .dataframe tbody tr th:only-of-type {\n",
              "        vertical-align: middle;\n",
              "    }\n",
              "\n",
              "    .dataframe tbody tr th {\n",
              "        vertical-align: top;\n",
              "    }\n",
              "\n",
              "    .dataframe thead th {\n",
              "        text-align: right;\n",
              "    }\n",
              "</style>\n",
              "<table border=\"1\" class=\"dataframe\">\n",
              "  <thead>\n",
              "    <tr style=\"text-align: right;\">\n",
              "      <th></th>\n",
              "      <th>Temperature (C)</th>\n",
              "      <th>Apparent Temperature (C)</th>\n",
              "      <th>Humidity</th>\n",
              "      <th>Wind Speed (km/h)</th>\n",
              "      <th>Wind Bearing (degrees)</th>\n",
              "      <th>Visibility (km)</th>\n",
              "      <th>Pressure (millibars)</th>\n",
              "    </tr>\n",
              "    <tr>\n",
              "      <th>Formatted Date</th>\n",
              "      <th></th>\n",
              "      <th></th>\n",
              "      <th></th>\n",
              "      <th></th>\n",
              "      <th></th>\n",
              "      <th></th>\n",
              "      <th></th>\n",
              "    </tr>\n",
              "  </thead>\n",
              "  <tbody>\n",
              "    <tr>\n",
              "      <th>2005-12-31</th>\n",
              "      <td>0.6</td>\n",
              "      <td>-4.0</td>\n",
              "      <td>0.89</td>\n",
              "      <td>17.1</td>\n",
              "      <td>140.0</td>\n",
              "      <td>10.0</td>\n",
              "      <td>1016.7</td>\n",
              "    </tr>\n",
              "    <tr>\n",
              "      <th>2006-01-01</th>\n",
              "      <td>4.1</td>\n",
              "      <td>-0.2</td>\n",
              "      <td>0.82</td>\n",
              "      <td>21.2</td>\n",
              "      <td>143.0</td>\n",
              "      <td>11.3</td>\n",
              "      <td>1012.0</td>\n",
              "    </tr>\n",
              "    <tr>\n",
              "      <th>2006-01-02</th>\n",
              "      <td>5.3</td>\n",
              "      <td>1.8</td>\n",
              "      <td>0.85</td>\n",
              "      <td>17.8</td>\n",
              "      <td>165.0</td>\n",
              "      <td>8.5</td>\n",
              "      <td>1010.4</td>\n",
              "    </tr>\n",
              "    <tr>\n",
              "      <th>2006-01-03</th>\n",
              "      <td>2.3</td>\n",
              "      <td>0.4</td>\n",
              "      <td>0.90</td>\n",
              "      <td>7.7</td>\n",
              "      <td>253.0</td>\n",
              "      <td>9.2</td>\n",
              "      <td>1021.2</td>\n",
              "    </tr>\n",
              "    <tr>\n",
              "      <th>2006-01-04</th>\n",
              "      <td>2.3</td>\n",
              "      <td>-0.7</td>\n",
              "      <td>0.91</td>\n",
              "      <td>12.2</td>\n",
              "      <td>35.0</td>\n",
              "      <td>8.4</td>\n",
              "      <td>981.8</td>\n",
              "    </tr>\n",
              "  </tbody>\n",
              "</table>\n",
              "</div>\n",
              "    <div class=\"colab-df-buttons\">\n",
              "\n",
              "  <div class=\"colab-df-container\">\n",
              "    <button class=\"colab-df-convert\" onclick=\"convertToInteractive('df-420ad984-e7e7-4357-8bf1-46a2bca6475c')\"\n",
              "            title=\"Convert this dataframe to an interactive table.\"\n",
              "            style=\"display:none;\">\n",
              "\n",
              "  <svg xmlns=\"http://www.w3.org/2000/svg\" height=\"24px\" viewBox=\"0 -960 960 960\">\n",
              "    <path d=\"M120-120v-720h720v720H120Zm60-500h600v-160H180v160Zm220 220h160v-160H400v160Zm0 220h160v-160H400v160ZM180-400h160v-160H180v160Zm440 0h160v-160H620v160ZM180-180h160v-160H180v160Zm440 0h160v-160H620v160Z\"/>\n",
              "  </svg>\n",
              "    </button>\n",
              "\n",
              "  <style>\n",
              "    .colab-df-container {\n",
              "      display:flex;\n",
              "      gap: 12px;\n",
              "    }\n",
              "\n",
              "    .colab-df-convert {\n",
              "      background-color: #E8F0FE;\n",
              "      border: none;\n",
              "      border-radius: 50%;\n",
              "      cursor: pointer;\n",
              "      display: none;\n",
              "      fill: #1967D2;\n",
              "      height: 32px;\n",
              "      padding: 0 0 0 0;\n",
              "      width: 32px;\n",
              "    }\n",
              "\n",
              "    .colab-df-convert:hover {\n",
              "      background-color: #E2EBFA;\n",
              "      box-shadow: 0px 1px 2px rgba(60, 64, 67, 0.3), 0px 1px 3px 1px rgba(60, 64, 67, 0.15);\n",
              "      fill: #174EA6;\n",
              "    }\n",
              "\n",
              "    .colab-df-buttons div {\n",
              "      margin-bottom: 4px;\n",
              "    }\n",
              "\n",
              "    [theme=dark] .colab-df-convert {\n",
              "      background-color: #3B4455;\n",
              "      fill: #D2E3FC;\n",
              "    }\n",
              "\n",
              "    [theme=dark] .colab-df-convert:hover {\n",
              "      background-color: #434B5C;\n",
              "      box-shadow: 0px 1px 3px 1px rgba(0, 0, 0, 0.15);\n",
              "      filter: drop-shadow(0px 1px 2px rgba(0, 0, 0, 0.3));\n",
              "      fill: #FFFFFF;\n",
              "    }\n",
              "  </style>\n",
              "\n",
              "    <script>\n",
              "      const buttonEl =\n",
              "        document.querySelector('#df-420ad984-e7e7-4357-8bf1-46a2bca6475c button.colab-df-convert');\n",
              "      buttonEl.style.display =\n",
              "        google.colab.kernel.accessAllowed ? 'block' : 'none';\n",
              "\n",
              "      async function convertToInteractive(key) {\n",
              "        const element = document.querySelector('#df-420ad984-e7e7-4357-8bf1-46a2bca6475c');\n",
              "        const dataTable =\n",
              "          await google.colab.kernel.invokeFunction('convertToInteractive',\n",
              "                                                    [key], {});\n",
              "        if (!dataTable) return;\n",
              "\n",
              "        const docLinkHtml = 'Like what you see? Visit the ' +\n",
              "          '<a target=\"_blank\" href=https://colab.research.google.com/notebooks/data_table.ipynb>data table notebook</a>'\n",
              "          + ' to learn more about interactive tables.';\n",
              "        element.innerHTML = '';\n",
              "        dataTable['output_type'] = 'display_data';\n",
              "        await google.colab.output.renderOutput(dataTable, element);\n",
              "        const docLink = document.createElement('div');\n",
              "        docLink.innerHTML = docLinkHtml;\n",
              "        element.appendChild(docLink);\n",
              "      }\n",
              "    </script>\n",
              "  </div>\n",
              "\n",
              "\n",
              "    <div id=\"df-e0a92357-1a99-4fed-9299-b78440df1a25\">\n",
              "      <button class=\"colab-df-quickchart\" onclick=\"quickchart('df-e0a92357-1a99-4fed-9299-b78440df1a25')\"\n",
              "                title=\"Suggest charts\"\n",
              "                style=\"display:none;\">\n",
              "\n",
              "<svg xmlns=\"http://www.w3.org/2000/svg\" height=\"24px\"viewBox=\"0 0 24 24\"\n",
              "     width=\"24px\">\n",
              "    <g>\n",
              "        <path d=\"M19 3H5c-1.1 0-2 .9-2 2v14c0 1.1.9 2 2 2h14c1.1 0 2-.9 2-2V5c0-1.1-.9-2-2-2zM9 17H7v-7h2v7zm4 0h-2V7h2v10zm4 0h-2v-4h2v4z\"/>\n",
              "    </g>\n",
              "</svg>\n",
              "      </button>\n",
              "\n",
              "<style>\n",
              "  .colab-df-quickchart {\n",
              "      --bg-color: #E8F0FE;\n",
              "      --fill-color: #1967D2;\n",
              "      --hover-bg-color: #E2EBFA;\n",
              "      --hover-fill-color: #174EA6;\n",
              "      --disabled-fill-color: #AAA;\n",
              "      --disabled-bg-color: #DDD;\n",
              "  }\n",
              "\n",
              "  [theme=dark] .colab-df-quickchart {\n",
              "      --bg-color: #3B4455;\n",
              "      --fill-color: #D2E3FC;\n",
              "      --hover-bg-color: #434B5C;\n",
              "      --hover-fill-color: #FFFFFF;\n",
              "      --disabled-bg-color: #3B4455;\n",
              "      --disabled-fill-color: #666;\n",
              "  }\n",
              "\n",
              "  .colab-df-quickchart {\n",
              "    background-color: var(--bg-color);\n",
              "    border: none;\n",
              "    border-radius: 50%;\n",
              "    cursor: pointer;\n",
              "    display: none;\n",
              "    fill: var(--fill-color);\n",
              "    height: 32px;\n",
              "    padding: 0;\n",
              "    width: 32px;\n",
              "  }\n",
              "\n",
              "  .colab-df-quickchart:hover {\n",
              "    background-color: var(--hover-bg-color);\n",
              "    box-shadow: 0 1px 2px rgba(60, 64, 67, 0.3), 0 1px 3px 1px rgba(60, 64, 67, 0.15);\n",
              "    fill: var(--button-hover-fill-color);\n",
              "  }\n",
              "\n",
              "  .colab-df-quickchart-complete:disabled,\n",
              "  .colab-df-quickchart-complete:disabled:hover {\n",
              "    background-color: var(--disabled-bg-color);\n",
              "    fill: var(--disabled-fill-color);\n",
              "    box-shadow: none;\n",
              "  }\n",
              "\n",
              "  .colab-df-spinner {\n",
              "    border: 2px solid var(--fill-color);\n",
              "    border-color: transparent;\n",
              "    border-bottom-color: var(--fill-color);\n",
              "    animation:\n",
              "      spin 1s steps(1) infinite;\n",
              "  }\n",
              "\n",
              "  @keyframes spin {\n",
              "    0% {\n",
              "      border-color: transparent;\n",
              "      border-bottom-color: var(--fill-color);\n",
              "      border-left-color: var(--fill-color);\n",
              "    }\n",
              "    20% {\n",
              "      border-color: transparent;\n",
              "      border-left-color: var(--fill-color);\n",
              "      border-top-color: var(--fill-color);\n",
              "    }\n",
              "    30% {\n",
              "      border-color: transparent;\n",
              "      border-left-color: var(--fill-color);\n",
              "      border-top-color: var(--fill-color);\n",
              "      border-right-color: var(--fill-color);\n",
              "    }\n",
              "    40% {\n",
              "      border-color: transparent;\n",
              "      border-right-color: var(--fill-color);\n",
              "      border-top-color: var(--fill-color);\n",
              "    }\n",
              "    60% {\n",
              "      border-color: transparent;\n",
              "      border-right-color: var(--fill-color);\n",
              "    }\n",
              "    80% {\n",
              "      border-color: transparent;\n",
              "      border-right-color: var(--fill-color);\n",
              "      border-bottom-color: var(--fill-color);\n",
              "    }\n",
              "    90% {\n",
              "      border-color: transparent;\n",
              "      border-bottom-color: var(--fill-color);\n",
              "    }\n",
              "  }\n",
              "</style>\n",
              "\n",
              "      <script>\n",
              "        async function quickchart(key) {\n",
              "          const quickchartButtonEl =\n",
              "            document.querySelector('#' + key + ' button');\n",
              "          quickchartButtonEl.disabled = true;  // To prevent multiple clicks.\n",
              "          quickchartButtonEl.classList.add('colab-df-spinner');\n",
              "          try {\n",
              "            const charts = await google.colab.kernel.invokeFunction(\n",
              "                'suggestCharts', [key], {});\n",
              "          } catch (error) {\n",
              "            console.error('Error during call to suggestCharts:', error);\n",
              "          }\n",
              "          quickchartButtonEl.classList.remove('colab-df-spinner');\n",
              "          quickchartButtonEl.classList.add('colab-df-quickchart-complete');\n",
              "        }\n",
              "        (() => {\n",
              "          let quickchartButtonEl =\n",
              "            document.querySelector('#df-e0a92357-1a99-4fed-9299-b78440df1a25 button');\n",
              "          quickchartButtonEl.style.display =\n",
              "            google.colab.kernel.accessAllowed ? 'block' : 'none';\n",
              "        })();\n",
              "      </script>\n",
              "    </div>\n",
              "\n",
              "    </div>\n",
              "  </div>\n"
            ],
            "application/vnd.google.colaboratory.intrinsic+json": {
              "type": "dataframe",
              "variable_name": "df",
              "summary": "{\n  \"name\": \"df\",\n  \"rows\": 4019,\n  \"fields\": [\n    {\n      \"column\": \"Formatted Date\",\n      \"properties\": {\n        \"dtype\": \"date\",\n        \"min\": \"2005-12-31 00:00:00\",\n        \"max\": \"2016-12-31 00:00:00\",\n        \"num_unique_values\": 4019,\n        \"samples\": [\n          \"2012-04-13 00:00:00\",\n          \"2009-04-18 00:00:00\",\n          \"2015-12-23 00:00:00\"\n        ],\n        \"semantic_type\": \"\",\n        \"description\": \"\"\n      }\n    },\n    {\n      \"column\": \"Temperature (C)\",\n      \"properties\": {\n        \"dtype\": \"number\",\n        \"std\": 8.793802269232287,\n        \"min\": -16.0,\n        \"max\": 30.8,\n        \"num_unique_values\": 394,\n        \"samples\": [\n          7.4,\n          22.3,\n          15.7\n        ],\n        \"semantic_type\": \"\",\n        \"description\": \"\"\n      }\n    },\n    {\n      \"column\": \"Apparent Temperature (C)\",\n      \"properties\": {\n        \"dtype\": \"number\",\n        \"std\": 9.93987466895523,\n        \"min\": -18.8,\n        \"max\": 30.0,\n        \"num_unique_values\": 434,\n        \"samples\": [\n          20.6,\n          10.3,\n          17.7\n        ],\n        \"semantic_type\": \"\",\n        \"description\": \"\"\n      }\n    },\n    {\n      \"column\": \"Humidity\",\n      \"properties\": {\n        \"dtype\": \"number\",\n        \"std\": 0.1350889025677443,\n        \"min\": 0.3,\n        \"max\": 1.0,\n        \"num_unique_values\": 67,\n        \"samples\": [\n          0.57,\n          0.78,\n          0.91\n        ],\n        \"semantic_type\": \"\",\n        \"description\": \"\"\n      }\n    },\n    {\n      \"column\": \"Wind Speed (km/h)\",\n      \"properties\": {\n        \"dtype\": \"number\",\n        \"std\": 5.001579089133391,\n        \"min\": 1.1,\n        \"max\": 37.9,\n        \"num_unique_values\": 269,\n        \"samples\": [\n          15.3,\n          12.7,\n          10.4\n        ],\n        \"semantic_type\": \"\",\n        \"description\": \"\"\n      }\n    },\n    {\n      \"column\": \"Wind Bearing (degrees)\",\n      \"properties\": {\n        \"dtype\": \"number\",\n        \"std\": 67.2923061279567,\n        \"min\": 8.0,\n        \"max\": 336.0,\n        \"num_unique_values\": 314,\n        \"samples\": [\n          59.0,\n          305.0,\n          81.0\n        ],\n        \"semantic_type\": \"\",\n        \"description\": \"\"\n      }\n    },\n    {\n      \"column\": \"Visibility (km)\",\n      \"properties\": {\n        \"dtype\": \"number\",\n        \"std\": 3.212651956800197,\n        \"min\": 0.0,\n        \"max\": 15.9,\n        \"num_unique_values\": 159,\n        \"samples\": [\n          5.8,\n          14.5,\n          3.9\n        ],\n        \"semantic_type\": \"\",\n        \"description\": \"\"\n      }\n    },\n    {\n      \"column\": \"Pressure (millibars)\",\n      \"properties\": {\n        \"dtype\": \"number\",\n        \"std\": 71.6086435557327,\n        \"min\": 336.5,\n        \"max\": 1043.5,\n        \"num_unique_values\": 685,\n        \"samples\": [\n          1025.9,\n          1029.1,\n          1011.9\n        ],\n        \"semantic_type\": \"\",\n        \"description\": \"\"\n      }\n    }\n  ]\n}"
            }
          },
          "metadata": {},
          "execution_count": 23
        }
      ],
      "source": [
        "# Answer to Q1.1.1\n",
        "\n",
        "path = 'weather.csv'\n",
        "df = pd.read_csv(path, index_col='Formatted Date', parse_dates=True)\n",
        "df.head()"
      ]
    },
    {
      "cell_type": "code",
      "execution_count": 24,
      "id": "3f59a6dc",
      "metadata": {
        "colab": {
          "base_uri": "https://localhost:8080/"
        },
        "id": "3f59a6dc",
        "outputId": "4c982e18-f38b-4704-f4b5-e319bb17400d"
      },
      "outputs": [
        {
          "output_type": "stream",
          "name": "stdout",
          "text": [
            "None\n"
          ]
        }
      ],
      "source": [
        "# Answer to Q1.1.2\n",
        "#No categorical variables\n",
        "print(\"None\")"
      ]
    },
    {
      "cell_type": "markdown",
      "id": "7b85905b",
      "metadata": {
        "id": "7b85905b"
      },
      "source": [
        "### Q1.2 Handling Missing Data (11%)\n",
        "1. Report missingness (**counts & %**) and show a heatmap for **Temperature, Pressure, Humidity**.\n",
        "2. Use these two imputation methods:\\\n",
        "   a) Forward-fill (FFill).\\\n",
        "   b) Linear time interpolation.\n",
        "3. Pick one method and save the result as `daily_clean`.\n",
        "4. **Discussion** Which imputation method did you pick and why?  \n",
        "5. **Discussion** How might your choice bias trend/seasonality estimates?  \n",
        "6. **Discussion** Would your choice change if the gap were 30 days instead of 7? Explain briefly.\n"
      ]
    },
    {
      "cell_type": "code",
      "execution_count": 25,
      "id": "a96ce71b",
      "metadata": {
        "colab": {
          "base_uri": "https://localhost:8080/"
        },
        "id": "a96ce71b",
        "outputId": "db661820-ecb1-460e-efc6-59f3e2067f26"
      },
      "outputs": [
        {
          "output_type": "stream",
          "name": "stdout",
          "text": [
            "Temperature (C)             47\n",
            "Apparent Temperature (C)     0\n",
            "Humidity                    40\n",
            "Wind Speed (km/h)            0\n",
            "Wind Bearing (degrees)       0\n",
            "Visibility (km)              0\n",
            "Pressure (millibars)        47\n",
            "dtype: int64 \n",
            "\n",
            "Temperature (C)             1.169445\n",
            "Apparent Temperature (C)    0.000000\n",
            "Humidity                    0.995272\n",
            "Wind Speed (km/h)           0.000000\n",
            "Wind Bearing (degrees)      0.000000\n",
            "Visibility (km)             0.000000\n",
            "Pressure (millibars)        1.169445\n",
            "dtype: float64\n"
          ]
        }
      ],
      "source": [
        "# Answer to Q1.2.1\n",
        "\n",
        "countNa = df.isnull().sum()\n",
        "percentageNa = (df.isnull().sum() / len(df))*100\n",
        "\n",
        "string = f\"{countNa} \\n\\n{percentageNa}\"\n",
        "print(string)\n",
        "\n",
        "#Print Heat Map\n"
      ]
    },
    {
      "cell_type": "code",
      "execution_count": 26,
      "id": "1c57ed16",
      "metadata": {
        "colab": {
          "base_uri": "https://localhost:8080/"
        },
        "id": "1c57ed16",
        "outputId": "e884bdb9-dbc4-4662-a662-0d3b4ed55928"
      },
      "outputs": [
        {
          "output_type": "stream",
          "name": "stderr",
          "text": [
            "/tmp/ipython-input-477686270.py:4: FutureWarning: DataFrame.fillna with 'method' is deprecated and will raise in a future version. Use obj.ffill() or obj.bfill() instead.\n",
            "  df_ffill = df.fillna(method=\"ffill\")\n"
          ]
        }
      ],
      "source": [
        "# Answer to Q1.2.2\n",
        "\n",
        "#forward fill (FFill), carry last valid value forward\n",
        "df_ffill = df.fillna(method=\"ffill\")\n",
        "\n",
        "df_linear = df.interpolate(method=\"linear\")"
      ]
    },
    {
      "cell_type": "code",
      "execution_count": 27,
      "id": "c6373a9c",
      "metadata": {
        "colab": {
          "base_uri": "https://localhost:8080/"
        },
        "id": "c6373a9c",
        "outputId": "02fa19e2-229e-49f4-c207-ed04f61fd39e"
      },
      "outputs": [
        {
          "output_type": "stream",
          "name": "stdout",
          "text": [
            "                Temperature (C)  Apparent Temperature (C)  Humidity  \\\n",
            "Formatted Date                                                        \n",
            "2005-12-31                  0.6                      -4.0      0.89   \n",
            "2006-01-01                  4.1                      -0.2      0.82   \n",
            "2006-01-02                  5.3                       1.8      0.85   \n",
            "2006-01-03                  2.3                       0.4      0.90   \n",
            "2006-01-04                  2.3                      -0.7      0.91   \n",
            "...                         ...                       ...       ...   \n",
            "2016-12-27                  0.3                      -3.2      0.89   \n",
            "2016-12-28                  0.2                      -3.2      0.89   \n",
            "2016-12-29                  0.2                      -3.3      0.89   \n",
            "2016-12-30                  0.1                      -3.3      0.89   \n",
            "2016-12-31                  0.1                      -3.3      0.89   \n",
            "\n",
            "                Wind Speed (km/h)  Wind Bearing (degrees)  Visibility (km)  \\\n",
            "Formatted Date                                                               \n",
            "2005-12-31                   17.1                   140.0             10.0   \n",
            "2006-01-01                   21.2                   143.0             11.3   \n",
            "2006-01-02                   17.8                   165.0              8.5   \n",
            "2006-01-03                    7.7                   253.0              9.2   \n",
            "2006-01-04                   12.2                    35.0              8.4   \n",
            "...                           ...                     ...              ...   \n",
            "2016-12-27                   11.0                   186.0              7.3   \n",
            "2016-12-28                   11.0                   186.0              7.3   \n",
            "2016-12-29                   10.9                   186.0              7.3   \n",
            "2016-12-30                   10.8                   186.0              7.3   \n",
            "2016-12-31                   10.8                   186.0              7.2   \n",
            "\n",
            "                Pressure (millibars)  \n",
            "Formatted Date                        \n",
            "2005-12-31                    1016.7  \n",
            "2006-01-01                    1012.0  \n",
            "2006-01-02                    1010.4  \n",
            "2006-01-03                    1021.2  \n",
            "2006-01-04                     981.8  \n",
            "...                              ...  \n",
            "2016-12-27                    1020.3  \n",
            "2016-12-28                    1020.3  \n",
            "2016-12-29                    1020.4  \n",
            "2016-12-30                    1020.4  \n",
            "2016-12-31                    1020.4  \n",
            "\n",
            "[4019 rows x 7 columns]\n"
          ]
        }
      ],
      "source": [
        "# Answer to Q1.2.3\n",
        "\n",
        "daily_clean = df_linear\n",
        "print(daily_clean)"
      ]
    },
    {
      "cell_type": "markdown",
      "id": "32f440c6",
      "metadata": {
        "id": "32f440c6"
      },
      "source": [
        "**Answer to Q1.2.4**:\n"
      ]
    },
    {
      "cell_type": "markdown",
      "id": "f1e77c00",
      "metadata": {
        "id": "f1e77c00"
      },
      "source": [
        "I chose to use linear time interpolation rather than FFill since the variables are all continuous values rather than categorical it makes more sense. If temp 1 is 10 and temp 3 is 12, temp 2 can be found through linear interpolation and is likely 11. FFill would be usefull if you were modelling a traffic light for example where if value 1 and 3 are GO, then you can fill forward and assume that value 2 is GO as well."
      ]
    },
    {
      "cell_type": "markdown",
      "id": "6060940e",
      "metadata": {
        "id": "6060940e"
      },
      "source": [
        "**Answer to Q1.2.5**:\n"
      ]
    },
    {
      "cell_type": "markdown",
      "id": "e79f7121",
      "metadata": {
        "id": "e79f7121"
      },
      "source": [
        "Linear interpolation can smooth over short term variability, and may not effectively show sudden changes or extreme values. It could bias short term seasonality analysis, but is less likely to distor long term trends compared to FFill, which artifically extend past values and flatten variability"
      ]
    },
    {
      "cell_type": "markdown",
      "id": "9701361e",
      "metadata": {
        "id": "9701361e"
      },
      "source": [
        "**Answer to Q1.2.6**:\n"
      ]
    },
    {
      "cell_type": "markdown",
      "id": "a9623cd2",
      "metadata": {
        "id": "a9623cd2"
      },
      "source": [
        "If the missing gap were 30 days instead of 7, linear interpolation would become less reliable since it assumes linearity across the gap. Over long gaps, environmental variables like temperature or humidity may change non-linearly (e.g., due to weather patterns). In that case, other methods such as seasonal decomposition, regression models, or external weather data sources would be more appropriate."
      ]
    },
    {
      "cell_type": "markdown",
      "id": "5727739e",
      "metadata": {
        "id": "5727739e"
      },
      "source": [
        "### Q1.3 Stationarity Analysis (12%)\n",
        "1. Extract the **univariate** series `Temperature_Series = daily_clean['Temperature (C)']` and `Pressure_Series = daily_clean['Pressure (millibars)'].  \n",
        "2. Report the results of a stationarity test (**ADF** or **KPSS**) for both series.\n",
        "3. **Discussion:** Explain your conclusion about stationary analysis of your results.\n",
        "4. Apply differencing on both series and plot **before/after** and report the stationary test results of your choice on differenced series.   \n",
        "5. **Discussion:** Explain the reason for your choice of differencing technique for each series.\n",
        "6. **Discussion:** Would you difference a series that is already stationary by ADF? When might that still help?"
      ]
    },
    {
      "cell_type": "code",
      "execution_count": 44,
      "id": "c7f7aaa9",
      "metadata": {
        "id": "c7f7aaa9"
      },
      "outputs": [],
      "source": [
        "# Answer to Q1.3.1\n",
        "Temperature_Series = daily_clean['Temperature (C)']\n",
        "Pressure_Series = daily_clean['Pressure (millibars)']\n"
      ]
    },
    {
      "cell_type": "code",
      "execution_count": 45,
      "id": "f2d4dc39",
      "metadata": {
        "colab": {
          "base_uri": "https://localhost:8080/"
        },
        "id": "f2d4dc39",
        "outputId": "a1064298-acc5-47f4-ebdc-7f5a87332e2c"
      },
      "outputs": [
        {
          "output_type": "stream",
          "name": "stdout",
          "text": [
            "1. ADF :  -3.9851602146651417\n",
            "2. P-Value :  0.0014902414944360286\n",
            "3. Num Of Lags :  16\n",
            "4. Num Of Observations Used For ADF Regression: 4002\n",
            "5. Critical Values :\n",
            "\t 1% :  -3.4319850573119437\n",
            "\t 5% :  -2.8622624788783146\n",
            "\t 10% :  -2.567154583183171\n",
            "=> Reject H0: Series is Stationary\n",
            "\n",
            "1. ADF :  -14.320986122573958\n",
            "2. P-Value :  1.141389008911619e-26\n",
            "3. Num Of Lags :  5\n",
            "4. Num Of Observations Used For ADF Regression: 4013\n",
            "5. Critical Values :\n",
            "\t 1% :  -3.431980572598556\n",
            "\t 5% :  -2.8622604977715755\n",
            "\t 10% :  -2.5671535285260605\n",
            "=> Reject H0: Series is Stationary\n"
          ]
        }
      ],
      "source": [
        "# Answer to Q1.3.2\n",
        "def adf_test(dataset):\n",
        "     dftest = adfuller(dataset, autolag = 'AIC')\n",
        "     print(\"1. ADF : \",dftest[0])\n",
        "     print(\"2. P-Value : \", dftest[1])\n",
        "     print(\"3. Num Of Lags : \", dftest[2])\n",
        "     print(\"4. Num Of Observations Used For ADF Regression:\", dftest[3])\n",
        "     print(\"5. Critical Values :\")\n",
        "     for key, val in dftest[4].items():\n",
        "         print(\"\\t\",key, \": \", val)\n",
        "     if dftest[1] < 0.05:\n",
        "      print(\"=> Reject H0: Series is Stationary\")\n",
        "     else:\n",
        "      print(\"=> Fail to Reject H0: Series is Non-Stationary\")\n",
        "\n",
        "adf_test(Temperature_Series)\n",
        "print()\n",
        "adf_test(Pressure_Series)"
      ]
    },
    {
      "cell_type": "markdown",
      "id": "bd0dbb90",
      "metadata": {
        "id": "bd0dbb90"
      },
      "source": [
        "**Answer to Q1.2.3**:\n",
        "The ADF test results indicate that both the Temperature (C) and Pressure (millibars) series are already stationary (p-values well below 0.05). This means their statistical properties such as mean and variance are consistent over time, and no clear trend or seasonality dominates the series."
      ]
    },
    {
      "cell_type": "code",
      "execution_count": 42,
      "id": "0260e18c",
      "metadata": {
        "colab": {
          "base_uri": "https://localhost:8080/"
        },
        "id": "0260e18c",
        "outputId": "4c82d4c4-ebe7-4b44-a4ec-61a6ca020e20"
      },
      "outputs": [
        {
          "output_type": "stream",
          "name": "stdout",
          "text": [
            "1. ADF :  -21.52785151888553\n",
            "2. P-Value :  0.0\n",
            "3. Num Of Lags :  15\n",
            "4. Num Of Observations Used For ADF Regression: 4002\n",
            "5. Critical Values :\n",
            "\t 1% :  -3.4319850573119437\n",
            "\t 5% :  -2.8622624788783146\n",
            "\t 10% :  -2.567154583183171\n",
            "=> Reject H0: Series is Stationary\n",
            "\n",
            "1. ADF :  -16.503539658424348\n",
            "2. P-Value :  2.1377374097239814e-29\n",
            "3. Num Of Lags :  31\n",
            "4. Num Of Observations Used For ADF Regression: 3986\n",
            "5. Critical Values :\n",
            "\t 1% :  -3.431991624746321\n",
            "\t 5% :  -2.8622653800145192\n",
            "\t 10% :  -2.5671561276258172\n",
            "=> Reject H0: Series is Stationary\n"
          ]
        }
      ],
      "source": [
        "# Answer to Q1.3.4\n",
        "Temperature_diff = Temperature_Series.diff().dropna()\n",
        "Pressure_diff = Pressure_Series.diff().dropna()\n",
        "\n",
        "# Run ADF on differenced series\n",
        "adf_test(Temperature_diff)\n",
        "print()\n",
        "adf_test(Pressure_diff)\n"
      ]
    },
    {
      "cell_type": "code",
      "source": [
        "# Plot original and differenced series\n",
        "fig, axes = plt.subplots(2, 2, figsize=(14,8))\n",
        "\n",
        "# Temperature original\n",
        "axes[0,0].plot(Temperature_Series, color=\"blue\")\n",
        "axes[0,0].set_title(\"Temperature (C) - Original\")\n",
        "\n",
        "# Temperature differenced\n",
        "axes[0,1].plot(Temperature_diff, color=\"red\")\n",
        "axes[0,1].set_title(\"Temperature (C) - Differenced\")\n",
        "\n",
        "# Pressure original\n",
        "axes[1,0].plot(Pressure_Series, color=\"green\")\n",
        "axes[1,0].set_title(\"Pressure (millibars) - Original\")\n",
        "\n",
        "# Pressure differenced\n",
        "axes[1,1].plot(Pressure_diff, color=\"orange\")\n",
        "axes[1,1].set_title(\"Pressure (millibars) - Differenced\")\n",
        "\n",
        "plt.tight_layout()\n",
        "plt.show()"
      ],
      "metadata": {
        "colab": {
          "base_uri": "https://localhost:8080/",
          "height": 757
        },
        "id": "kknKeZi4xQgP",
        "outputId": "6dc0cb61-4608-452e-976a-8496c476c2d8"
      },
      "id": "kknKeZi4xQgP",
      "execution_count": 43,
      "outputs": [
        {
          "output_type": "display_data",
          "data": {
            "text/plain": [
              "<Figure size 1400x800 with 4 Axes>"
            ],
            "image/png": "[encoded data removed]"
          },
          "metadata": {}
        }
      ]
    },
    {
      "cell_type": "markdown",
      "id": "a124f93d",
      "metadata": {
        "id": "a124f93d"
      },
      "source": [
        "**Answer to Q1.2.5**:\n",
        "\n",
        "Even though the original series were stationary, first-order differencing was applied as a validation step. After differencing:\n",
        "\n",
        "Temperature Differenced: ADF p-value dropped further (0.0000), strongly confirming stationarity.\n",
        "\n",
        "Pressure Differenced: ADF p-value also remained extremely low (≈0.0), again confirming strong stationarity."
      ]
    },
    {
      "cell_type": "markdown",
      "id": "5fff77d4",
      "metadata": {
        "id": "5fff77d4"
      },
      "source": [
        "**Answer to Q1.2.6**:\n"
      ]
    },
    {
      "cell_type": "markdown",
      "id": "98be1eb9",
      "metadata": {
        "id": "98be1eb9"
      },
      "source": [
        "## Question 2: Model-Based Techniques (35%)\n",
        "\n",
        "### Q2.1 ARIMA model identification and forecasting (20%)\n",
        "1. Use `Temperature_Series` to plot **ACF/PACF** and list the choice of candidate order set for ARIMA: (p,d,q).  \n",
        "2. **Discussion:** Explain the reasons for your choice of (p,d,q).\n",
        "3. Select the orders by **AIC** using the training set (hold out the last **365 days** for testing).  \n",
        "4. Fit the selected ARIMA on the training set and evaluate the predictions' **MAE/MSE** on the test set.\n",
        "5. Plot predictions with **95% CI**.\n",
        "6. Forecast the **next 365 days** and visualize with historical context and **95% CI**.\n"
      ]
    },
    {
      "cell_type": "code",
      "execution_count": null,
      "id": "eaaf2097",
      "metadata": {
        "id": "eaaf2097",
        "outputId": "29dfb74d-5774-446a-cd72-2a0000105aab"
      },
      "outputs": [
        {
          "ename": "TypeError",
          "evalue": "'tuple' object is not callable",
          "output_type": "error",
          "traceback": [
            "\u001b[1;31m---------------------------------------------------------------------------\u001b[0m",
            "\u001b[1;31mTypeError\u001b[0m                                 Traceback (most recent call last)",
            "Cell \u001b[1;32mIn[18], line 1\u001b[0m\n\u001b[1;32m----> 1\u001b[0m df\u001b[38;5;241m.\u001b[39mshape()\n",
            "\u001b[1;31mTypeError\u001b[0m: 'tuple' object is not callable"
          ]
        }
      ],
      "source": [
        "df.shape()"
      ]
    },
    {
      "cell_type": "code",
      "execution_count": null,
      "id": "08445c61",
      "metadata": {
        "id": "08445c61",
        "outputId": "cb767e44-edd4-4203-e3e2-8876935eb8a4"
      },
      "outputs": [
        {
          "ename": "TypeError",
          "evalue": "Value after * must be an iterable, not float",
          "output_type": "error",
          "traceback": [
            "\u001b[1;31m---------------------------------------------------------------------------\u001b[0m",
            "\u001b[1;31mTypeError\u001b[0m                                 Traceback (most recent call last)",
            "Cell \u001b[1;32mIn[17], line 2\u001b[0m\n\u001b[0;32m      1\u001b[0m \u001b[38;5;66;03m# Answer to Q2.1.1\u001b[39;00m\n\u001b[1;32m----> 2\u001b[0m df[\u001b[38;5;124m'\u001b[39m\u001b[38;5;124mTemperature (C)\u001b[39m\u001b[38;5;124m'\u001b[39m]\u001b[38;5;241m.\u001b[39mplot(figsize\u001b[38;5;241m=\u001b[39m(\u001b[38;5;241m12.5\u001b[39m))\n",
            "File \u001b[1;32mc:\\Users\\Adunner\\anaconda3\\Lib\\site-packages\\pandas\\plotting\\_core.py:1030\u001b[0m, in \u001b[0;36mPlotAccessor.__call__\u001b[1;34m(self, *args, **kwargs)\u001b[0m\n\u001b[0;32m   1027\u001b[0m             label_name \u001b[38;5;241m=\u001b[39m label_kw \u001b[38;5;129;01mor\u001b[39;00m data\u001b[38;5;241m.\u001b[39mcolumns\n\u001b[0;32m   1028\u001b[0m             data\u001b[38;5;241m.\u001b[39mcolumns \u001b[38;5;241m=\u001b[39m label_name\n\u001b[1;32m-> 1030\u001b[0m \u001b[38;5;28;01mreturn\u001b[39;00m plot_backend\u001b[38;5;241m.\u001b[39mplot(data, kind\u001b[38;5;241m=\u001b[39mkind, \u001b[38;5;241m*\u001b[39m\u001b[38;5;241m*\u001b[39mkwargs)\n",
            "File \u001b[1;32mc:\\Users\\Adunner\\anaconda3\\Lib\\site-packages\\pandas\\plotting\\_matplotlib\\__init__.py:71\u001b[0m, in \u001b[0;36mplot\u001b[1;34m(data, kind, **kwargs)\u001b[0m\n\u001b[0;32m     69\u001b[0m         kwargs[\u001b[38;5;124m\"\u001b[39m\u001b[38;5;124max\u001b[39m\u001b[38;5;124m\"\u001b[39m] \u001b[38;5;241m=\u001b[39m \u001b[38;5;28mgetattr\u001b[39m(ax, \u001b[38;5;124m\"\u001b[39m\u001b[38;5;124mleft_ax\u001b[39m\u001b[38;5;124m\"\u001b[39m, ax)\n\u001b[0;32m     70\u001b[0m plot_obj \u001b[38;5;241m=\u001b[39m PLOT_CLASSES[kind](data, \u001b[38;5;241m*\u001b[39m\u001b[38;5;241m*\u001b[39mkwargs)\n\u001b[1;32m---> 71\u001b[0m plot_obj\u001b[38;5;241m.\u001b[39mgenerate()\n\u001b[0;32m     72\u001b[0m plot_obj\u001b[38;5;241m.\u001b[39mdraw()\n\u001b[0;32m     73\u001b[0m \u001b[38;5;28;01mreturn\u001b[39;00m plot_obj\u001b[38;5;241m.\u001b[39mresult\n",
            "File \u001b[1;32mc:\\Users\\Adunner\\anaconda3\\Lib\\site-packages\\pandas\\plotting\\_matplotlib\\core.py:500\u001b[0m, in \u001b[0;36mMPLPlot.generate\u001b[1;34m(self)\u001b[0m\n\u001b[0;32m    497\u001b[0m \u001b[38;5;129m@final\u001b[39m\n\u001b[0;32m    498\u001b[0m \u001b[38;5;28;01mdef\u001b[39;00m \u001b[38;5;21mgenerate\u001b[39m(\u001b[38;5;28mself\u001b[39m) \u001b[38;5;241m-\u001b[39m\u001b[38;5;241m>\u001b[39m \u001b[38;5;28;01mNone\u001b[39;00m:\n\u001b[0;32m    499\u001b[0m     \u001b[38;5;28mself\u001b[39m\u001b[38;5;241m.\u001b[39m_compute_plot_data()\n\u001b[1;32m--> 500\u001b[0m     fig \u001b[38;5;241m=\u001b[39m \u001b[38;5;28mself\u001b[39m\u001b[38;5;241m.\u001b[39mfig\n\u001b[0;32m    501\u001b[0m     \u001b[38;5;28mself\u001b[39m\u001b[38;5;241m.\u001b[39m_make_plot(fig)\n\u001b[0;32m    502\u001b[0m     \u001b[38;5;28mself\u001b[39m\u001b[38;5;241m.\u001b[39m_add_table()\n",
            "File \u001b[1;32mproperties.pyx:36\u001b[0m, in \u001b[0;36mpandas._libs.properties.CachedProperty.__get__\u001b[1;34m()\u001b[0m\n",
            "File \u001b[1;32mc:\\Users\\Adunner\\anaconda3\\Lib\\site-packages\\pandas\\plotting\\_matplotlib\\core.py:555\u001b[0m, in \u001b[0;36mMPLPlot.fig\u001b[1;34m(self)\u001b[0m\n\u001b[0;32m    552\u001b[0m \u001b[38;5;129m@final\u001b[39m\n\u001b[0;32m    553\u001b[0m \u001b[38;5;129m@cache_readonly\u001b[39m\n\u001b[0;32m    554\u001b[0m \u001b[38;5;28;01mdef\u001b[39;00m \u001b[38;5;21mfig\u001b[39m(\u001b[38;5;28mself\u001b[39m) \u001b[38;5;241m-\u001b[39m\u001b[38;5;241m>\u001b[39m Figure:\n\u001b[1;32m--> 555\u001b[0m     \u001b[38;5;28;01mreturn\u001b[39;00m \u001b[38;5;28mself\u001b[39m\u001b[38;5;241m.\u001b[39m_axes_and_fig[\u001b[38;5;241m1\u001b[39m]\n",
            "File \u001b[1;32mproperties.pyx:36\u001b[0m, in \u001b[0;36mpandas._libs.properties.CachedProperty.__get__\u001b[1;34m()\u001b[0m\n",
            "File \u001b[1;32mc:\\Users\\Adunner\\anaconda3\\Lib\\site-packages\\pandas\\plotting\\_matplotlib\\core.py:580\u001b[0m, in \u001b[0;36mMPLPlot._axes_and_fig\u001b[1;34m(self)\u001b[0m\n\u001b[0;32m    570\u001b[0m     fig, axes \u001b[38;5;241m=\u001b[39m create_subplots(\n\u001b[0;32m    571\u001b[0m         naxes\u001b[38;5;241m=\u001b[39mnaxes,\n\u001b[0;32m    572\u001b[0m         sharex\u001b[38;5;241m=\u001b[39m\u001b[38;5;28mself\u001b[39m\u001b[38;5;241m.\u001b[39msharex,\n\u001b[1;32m   (...)\u001b[0m\n\u001b[0;32m    577\u001b[0m         layout_type\u001b[38;5;241m=\u001b[39m\u001b[38;5;28mself\u001b[39m\u001b[38;5;241m.\u001b[39m_layout_type,\n\u001b[0;32m    578\u001b[0m     )\n\u001b[0;32m    579\u001b[0m \u001b[38;5;28;01melif\u001b[39;00m \u001b[38;5;28mself\u001b[39m\u001b[38;5;241m.\u001b[39max \u001b[38;5;129;01mis\u001b[39;00m \u001b[38;5;28;01mNone\u001b[39;00m:\n\u001b[1;32m--> 580\u001b[0m     fig \u001b[38;5;241m=\u001b[39m \u001b[38;5;28mself\u001b[39m\u001b[38;5;241m.\u001b[39mplt\u001b[38;5;241m.\u001b[39mfigure(figsize\u001b[38;5;241m=\u001b[39m\u001b[38;5;28mself\u001b[39m\u001b[38;5;241m.\u001b[39mfigsize)\n\u001b[0;32m    581\u001b[0m     axes \u001b[38;5;241m=\u001b[39m fig\u001b[38;5;241m.\u001b[39madd_subplot(\u001b[38;5;241m111\u001b[39m)\n\u001b[0;32m    582\u001b[0m \u001b[38;5;28;01melse\u001b[39;00m:\n",
            "File \u001b[1;32mc:\\Users\\Adunner\\anaconda3\\Lib\\site-packages\\matplotlib\\pyplot.py:1027\u001b[0m, in \u001b[0;36mfigure\u001b[1;34m(num, figsize, dpi, facecolor, edgecolor, frameon, FigureClass, clear, **kwargs)\u001b[0m\n\u001b[0;32m   1017\u001b[0m \u001b[38;5;28;01mif\u001b[39;00m \u001b[38;5;28mlen\u001b[39m(allnums) \u001b[38;5;241m==\u001b[39m max_open_warning \u001b[38;5;241m>\u001b[39m\u001b[38;5;241m=\u001b[39m \u001b[38;5;241m1\u001b[39m:\n\u001b[0;32m   1018\u001b[0m     _api\u001b[38;5;241m.\u001b[39mwarn_external(\n\u001b[0;32m   1019\u001b[0m         \u001b[38;5;124mf\u001b[39m\u001b[38;5;124m\"\u001b[39m\u001b[38;5;124mMore than \u001b[39m\u001b[38;5;132;01m{\u001b[39;00mmax_open_warning\u001b[38;5;132;01m}\u001b[39;00m\u001b[38;5;124m figures have been opened. \u001b[39m\u001b[38;5;124m\"\u001b[39m\n\u001b[0;32m   1020\u001b[0m         \u001b[38;5;124mf\u001b[39m\u001b[38;5;124m\"\u001b[39m\u001b[38;5;124mFigures created through the pyplot interface \u001b[39m\u001b[38;5;124m\"\u001b[39m\n\u001b[1;32m   (...)\u001b[0m\n\u001b[0;32m   1024\u001b[0m         \u001b[38;5;124mf\u001b[39m\u001b[38;5;124m\"\u001b[39m\u001b[38;5;124mConsider using `matplotlib.pyplot.close()`.\u001b[39m\u001b[38;5;124m\"\u001b[39m,\n\u001b[0;32m   1025\u001b[0m         \u001b[38;5;167;01mRuntimeWarning\u001b[39;00m)\n\u001b[1;32m-> 1027\u001b[0m manager \u001b[38;5;241m=\u001b[39m new_figure_manager(\n\u001b[0;32m   1028\u001b[0m     num, figsize\u001b[38;5;241m=\u001b[39mfigsize, dpi\u001b[38;5;241m=\u001b[39mdpi,\n\u001b[0;32m   1029\u001b[0m     facecolor\u001b[38;5;241m=\u001b[39mfacecolor, edgecolor\u001b[38;5;241m=\u001b[39medgecolor, frameon\u001b[38;5;241m=\u001b[39mframeon,\n\u001b[0;32m   1030\u001b[0m     FigureClass\u001b[38;5;241m=\u001b[39mFigureClass, \u001b[38;5;241m*\u001b[39m\u001b[38;5;241m*\u001b[39mkwargs)\n\u001b[0;32m   1031\u001b[0m fig \u001b[38;5;241m=\u001b[39m manager\u001b[38;5;241m.\u001b[39mcanvas\u001b[38;5;241m.\u001b[39mfigure\n\u001b[0;32m   1032\u001b[0m \u001b[38;5;28;01mif\u001b[39;00m fig_label:\n",
            "File \u001b[1;32mc:\\Users\\Adunner\\anaconda3\\Lib\\site-packages\\matplotlib\\pyplot.py:550\u001b[0m, in \u001b[0;36mnew_figure_manager\u001b[1;34m(*args, **kwargs)\u001b[0m\n\u001b[0;32m    548\u001b[0m \u001b[38;5;250m\u001b[39m\u001b[38;5;124;03m\"\"\"Create a new figure manager instance.\"\"\"\u001b[39;00m\n\u001b[0;32m    549\u001b[0m _warn_if_gui_out_of_main_thread()\n\u001b[1;32m--> 550\u001b[0m \u001b[38;5;28;01mreturn\u001b[39;00m _get_backend_mod()\u001b[38;5;241m.\u001b[39mnew_figure_manager(\u001b[38;5;241m*\u001b[39margs, \u001b[38;5;241m*\u001b[39m\u001b[38;5;241m*\u001b[39mkwargs)\n",
            "File \u001b[1;32mc:\\Users\\Adunner\\anaconda3\\Lib\\site-packages\\matplotlib_inline\\backend_inline.py:27\u001b[0m, in \u001b[0;36mnew_figure_manager\u001b[1;34m(num, FigureClass, *args, **kwargs)\u001b[0m\n\u001b[0;32m     21\u001b[0m \u001b[38;5;28;01mdef\u001b[39;00m \u001b[38;5;21mnew_figure_manager\u001b[39m(num, \u001b[38;5;241m*\u001b[39margs, FigureClass\u001b[38;5;241m=\u001b[39mFigure, \u001b[38;5;241m*\u001b[39m\u001b[38;5;241m*\u001b[39mkwargs):\n\u001b[0;32m     22\u001b[0m \u001b[38;5;250m    \u001b[39m\u001b[38;5;124;03m\"\"\"\u001b[39;00m\n\u001b[0;32m     23\u001b[0m \u001b[38;5;124;03m    Return a new figure manager for a new figure instance.\u001b[39;00m\n\u001b[0;32m     24\u001b[0m \n\u001b[0;32m     25\u001b[0m \u001b[38;5;124;03m    This function is part of the API expected by Matplotlib backends.\u001b[39;00m\n\u001b[0;32m     26\u001b[0m \u001b[38;5;124;03m    \"\"\"\u001b[39;00m\n\u001b[1;32m---> 27\u001b[0m     \u001b[38;5;28;01mreturn\u001b[39;00m new_figure_manager_given_figure(num, FigureClass(\u001b[38;5;241m*\u001b[39margs, \u001b[38;5;241m*\u001b[39m\u001b[38;5;241m*\u001b[39mkwargs))\n",
            "File \u001b[1;32mc:\\Users\\Adunner\\anaconda3\\Lib\\site-packages\\matplotlib\\figure.py:2568\u001b[0m, in \u001b[0;36mFigure.__init__\u001b[1;34m(self, figsize, dpi, facecolor, edgecolor, linewidth, frameon, subplotpars, tight_layout, constrained_layout, layout, **kwargs)\u001b[0m\n\u001b[0;32m   2565\u001b[0m \u001b[38;5;28;01mif\u001b[39;00m \u001b[38;5;129;01mnot\u001b[39;00m np\u001b[38;5;241m.\u001b[39misfinite(figsize)\u001b[38;5;241m.\u001b[39mall() \u001b[38;5;129;01mor\u001b[39;00m (np\u001b[38;5;241m.\u001b[39marray(figsize) \u001b[38;5;241m<\u001b[39m \u001b[38;5;241m0\u001b[39m)\u001b[38;5;241m.\u001b[39many():\n\u001b[0;32m   2566\u001b[0m     \u001b[38;5;28;01mraise\u001b[39;00m \u001b[38;5;167;01mValueError\u001b[39;00m(\u001b[38;5;124m'\u001b[39m\u001b[38;5;124mfigure size must be positive finite not \u001b[39m\u001b[38;5;124m'\u001b[39m\n\u001b[0;32m   2567\u001b[0m                      \u001b[38;5;124mf\u001b[39m\u001b[38;5;124m'\u001b[39m\u001b[38;5;132;01m{\u001b[39;00mfigsize\u001b[38;5;132;01m}\u001b[39;00m\u001b[38;5;124m'\u001b[39m)\n\u001b[1;32m-> 2568\u001b[0m \u001b[38;5;28mself\u001b[39m\u001b[38;5;241m.\u001b[39mbbox_inches \u001b[38;5;241m=\u001b[39m Bbox\u001b[38;5;241m.\u001b[39mfrom_bounds(\u001b[38;5;241m0\u001b[39m, \u001b[38;5;241m0\u001b[39m, \u001b[38;5;241m*\u001b[39mfigsize)\n\u001b[0;32m   2570\u001b[0m \u001b[38;5;28mself\u001b[39m\u001b[38;5;241m.\u001b[39mdpi_scale_trans \u001b[38;5;241m=\u001b[39m Affine2D()\u001b[38;5;241m.\u001b[39mscale(dpi)\n\u001b[0;32m   2571\u001b[0m \u001b[38;5;66;03m# do not use property as it will trigger\u001b[39;00m\n",
            "\u001b[1;31mTypeError\u001b[0m: Value after * must be an iterable, not float"
          ]
        }
      ],
      "source": [
        "# Answer to Q2.1.1\n",
        "df['Temperature (C)'].plot(figsize=(12.5))"
      ]
    },
    {
      "cell_type": "markdown",
      "id": "8dc00caa",
      "metadata": {
        "id": "8dc00caa"
      },
      "source": [
        "**Answer to Q2.1.2**:\n"
      ]
    },
    {
      "cell_type": "code",
      "execution_count": null,
      "id": "568db99e",
      "metadata": {
        "id": "568db99e"
      },
      "outputs": [],
      "source": [
        "# Answer to Q2.1.3"
      ]
    },
    {
      "cell_type": "code",
      "execution_count": null,
      "id": "0fa1a7ce",
      "metadata": {
        "id": "0fa1a7ce"
      },
      "outputs": [],
      "source": [
        "# Answer to Q2.1.4"
      ]
    },
    {
      "cell_type": "code",
      "execution_count": null,
      "id": "65aefa27",
      "metadata": {
        "id": "65aefa27"
      },
      "outputs": [],
      "source": [
        "# Answer to Q2.1.5"
      ]
    },
    {
      "cell_type": "code",
      "execution_count": null,
      "id": "49119180",
      "metadata": {
        "id": "49119180"
      },
      "outputs": [],
      "source": [
        "# Answer to Q2.1.6"
      ]
    },
    {
      "cell_type": "markdown",
      "id": "0d70562b",
      "metadata": {
        "id": "0d70562b"
      },
      "source": [
        "### Q2.2 SARIMA forecasting (15%)\n",
        "\n",
        "1. Derive a **monthly** series from `daily_clean` and fit a **SARIMA** with seasonal period **12**. Hold out the **last 24 months** as test set for prediction.\n",
        "2. Report the predictions' **MAE/MSE**.\n",
        "3. Plot the the prediction with **95% CI**\n",
        "4.  **Discussion:** Compare the ARIMA and SARIMA predictions and explain your findings.\n"
      ]
    },
    {
      "cell_type": "code",
      "execution_count": null,
      "id": "29d8d7b0",
      "metadata": {
        "id": "29d8d7b0"
      },
      "outputs": [],
      "source": [
        "# Answer to Q2.2.1"
      ]
    },
    {
      "cell_type": "code",
      "execution_count": null,
      "id": "8b14b29d",
      "metadata": {
        "id": "8b14b29d"
      },
      "outputs": [],
      "source": [
        "# Answer to Q2.2.2"
      ]
    },
    {
      "cell_type": "code",
      "execution_count": null,
      "id": "801e0a17",
      "metadata": {
        "id": "801e0a17"
      },
      "outputs": [],
      "source": [
        "# Answer to Q2.2.3"
      ]
    },
    {
      "cell_type": "markdown",
      "id": "5ed943f3",
      "metadata": {
        "id": "5ed943f3"
      },
      "source": [
        "**Answer to Q2.2.4**:\n"
      ]
    },
    {
      "cell_type": "markdown",
      "id": "438199c7",
      "metadata": {
        "id": "438199c7"
      },
      "source": [
        "## Question 3: Neural Networks for Time Series Forecasting (40%)\n",
        "Use `daily_clean` for all parts.\n",
        "\n",
        "### Q3.1 Sliding Window for Time Series — Univariate (2%)\n",
        "1. Restructure **Temperature**: past **10 days** → **next day**.\n",
        "\n",
        "2. Hold out last 20% as test set.\n"
      ]
    },
    {
      "cell_type": "code",
      "execution_count": null,
      "id": "861f633c",
      "metadata": {
        "id": "861f633c"
      },
      "outputs": [],
      "source": [
        "# Answer to Q3.1.1"
      ]
    },
    {
      "cell_type": "code",
      "execution_count": null,
      "id": "3a8f07f1",
      "metadata": {
        "id": "3a8f07f1"
      },
      "outputs": [],
      "source": [
        "# Answer to Q3.1.2"
      ]
    },
    {
      "cell_type": "markdown",
      "id": "c2947ac2",
      "metadata": {
        "id": "c2947ac2"
      },
      "source": [
        "### Q3.2 MLP — Univariate (18%)\n",
        "1. Build an MLP with one hidden layer of 64 neurons, ReLu activation, Adam optimizer with learning rate of 0.001 and batch_size=32, and train it for 20 epochs.\n",
        "2. Report **RMSE/MAE**.\n",
        "3. Plot **two figures**: (1) **last 100 test points** (true vs. predicted), (2) **scatter (true vs. predicted)** with the **y = x** line.\n",
        "4. **Discussion:** Compare ARIMA vs. the univariate MLP in **RMSE/MAE** and **plots**. Which patterns does each capture better?\n",
        "5. **Discussion:** Would increasing the input window beyond 10 days help? Why or why not?\n"
      ]
    },
    {
      "cell_type": "code",
      "execution_count": null,
      "id": "7a621e60",
      "metadata": {
        "id": "7a621e60"
      },
      "outputs": [],
      "source": [
        "# Answer to Q3.2.1"
      ]
    },
    {
      "cell_type": "code",
      "execution_count": null,
      "id": "c9e4b52b",
      "metadata": {
        "id": "c9e4b52b"
      },
      "outputs": [],
      "source": [
        "# Answer to Q3.2.2"
      ]
    },
    {
      "cell_type": "code",
      "execution_count": null,
      "id": "650817bc",
      "metadata": {
        "id": "650817bc"
      },
      "outputs": [],
      "source": [
        "# Answer to Q3.2.3"
      ]
    },
    {
      "cell_type": "markdown",
      "id": "b897819c",
      "metadata": {
        "id": "b897819c"
      },
      "source": [
        "**Answer to Q3.2.4**:\n"
      ]
    },
    {
      "cell_type": "markdown",
      "id": "bd99c011",
      "metadata": {
        "id": "bd99c011"
      },
      "source": [
        "**Answer to Q3.2.5**:\n"
      ]
    },
    {
      "cell_type": "markdown",
      "id": "54e6e3ee",
      "metadata": {
        "id": "54e6e3ee"
      },
      "source": [
        "### Q3.3 MLP — Multivariate (20%)\n",
        "1. Use **Temperature & Pressure** for the past **10 days** as the inputs and **next‑day Temperature** as the target.\n",
        "2. Hold out last 20% as test set.\n",
        "3. Build a Multivariate MLP with one hidden layer of 64 neurons, ReLu activation, Adam optimizer with learning rate of 0.001 and batch_size=32, and train it for 20 epochs.\n",
        "4. Report **RMSE/MAE**.\n",
        "5. Plot **two figures**: (1) **last 100 test points** (true vs. predicted), (2) **scatter (true vs. predicted)** with the **y = x** line.\n",
        "6. **Discussion:** Did Pressure improve Temperature forecasting vs. univariate? Why might it help/hurt?  \n",
        "7. **Discussion:** Suggest two additional features you would add next and why?\n"
      ]
    },
    {
      "cell_type": "code",
      "execution_count": null,
      "id": "6470ad1c",
      "metadata": {
        "id": "6470ad1c"
      },
      "outputs": [],
      "source": [
        "# Answer to Q3.3.1"
      ]
    },
    {
      "cell_type": "code",
      "execution_count": null,
      "id": "338615e3",
      "metadata": {
        "id": "338615e3"
      },
      "outputs": [],
      "source": [
        "# Answer to Q3.3.2"
      ]
    },
    {
      "cell_type": "code",
      "execution_count": null,
      "id": "d2d52cb2",
      "metadata": {
        "id": "d2d52cb2"
      },
      "outputs": [],
      "source": [
        "# Answer to Q3.3.3"
      ]
    },
    {
      "cell_type": "code",
      "execution_count": null,
      "id": "280733f1",
      "metadata": {
        "id": "280733f1"
      },
      "outputs": [],
      "source": [
        "# Answer to Q3.3.4"
      ]
    },
    {
      "cell_type": "code",
      "execution_count": null,
      "id": "6c2f9b44",
      "metadata": {
        "id": "6c2f9b44"
      },
      "outputs": [],
      "source": [
        "# Answer to Q3.3.5"
      ]
    },
    {
      "cell_type": "markdown",
      "id": "3a23d8f9",
      "metadata": {
        "id": "3a23d8f9"
      },
      "source": [
        "**Answer to Q3.3.6**:\n"
      ]
    },
    {
      "cell_type": "markdown",
      "id": "503b0d46",
      "metadata": {
        "id": "503b0d46"
      },
      "source": [
        "**Answer to Q3.3.7**:\n"
      ]
    }
  ],
  "metadata": {
    "kernelspec": {
      "display_name": "base",
      "language": "python",
      "name": "python3"
    },
    "language_info": {
      "codemirror_mode": {
        "name": "ipython",
        "version": 3
      },
      "file_extension": ".py",
      "mimetype": "text/x-python",
      "name": "python",
      "nbconvert_exporter": "python",
      "pygments_lexer": "ipython3",
      "version": "3.12.7"
    },
    "colab": {
      "provenance": []
    }
  },
  "nbformat": 4,
  "nbformat_minor": 5
}